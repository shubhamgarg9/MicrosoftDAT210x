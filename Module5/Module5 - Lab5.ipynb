{
 "cells": [
  {
   "cell_type": "markdown",
   "metadata": {},
   "source": [
    "# DAT210x - Programming with Python for DS"
   ]
  },
  {
   "cell_type": "markdown",
   "metadata": {},
   "source": [
    "## Module5- Lab5"
   ]
  },
  {
   "cell_type": "code",
   "execution_count": 31,
   "metadata": {
    "collapsed": true
   },
   "outputs": [],
   "source": [
    "import numpy as np\n",
    "import pandas as pd\n",
    "import matplotlib.pyplot as plt\n",
    "import matplotlib\n",
    "\n",
    "matplotlib.style.use('ggplot') # Look Pretty"
   ]
  },
  {
   "cell_type": "markdown",
   "metadata": {},
   "source": [
    "### A Convenience Function"
   ]
  },
  {
   "cell_type": "code",
   "execution_count": 32,
   "metadata": {
    "collapsed": true
   },
   "outputs": [],
   "source": [
    "def plotDecisionBoundary(model, X, y):\n",
    "    fig = plt.figure()\n",
    "    ax = fig.add_subplot(111)\n",
    "\n",
    "    padding = 0.6\n",
    "    resolution = 0.0025\n",
    "    colors = ['royalblue','forestgreen','ghostwhite']\n",
    "\n",
    "    # Calculate the boundaris\n",
    "    x_min, x_max = X[:, 0].min(), X[:, 0].max()\n",
    "    y_min, y_max = X[:, 1].min(), X[:, 1].max()\n",
    "    x_range = x_max - x_min\n",
    "    y_range = y_max - y_min\n",
    "    x_min -= x_range * padding\n",
    "    y_min -= y_range * padding\n",
    "    x_max += x_range * padding\n",
    "    y_max += y_range * padding\n",
    "\n",
    "    # Create a 2D Grid Matrix. The values stored in the matrix\n",
    "    # are the predictions of the class at at said location\n",
    "    xx, yy = np.meshgrid(np.arange(x_min, x_max, resolution),\n",
    "                       np.arange(y_min, y_max, resolution))\n",
    "\n",
    "    # What class does the classifier say?\n",
    "    Z = model.predict(np.c_[xx.ravel(), yy.ravel()])\n",
    "    Z = Z.reshape(xx.shape)\n",
    "\n",
    "    # Plot the contour map\n",
    "    cs = plt.contourf(xx, yy, Z, cmap=plt.cm.terrain)\n",
    "\n",
    "    # Plot the test original points as well...\n",
    "    for label in range(len(np.unique(y))):\n",
    "        indices = np.where(y == label)\n",
    "        plt.scatter(X[indices, 0], X[indices, 1], c=colors[label], label=str(label), alpha=0.8)\n",
    "\n",
    "    p = model.get_params()\n",
    "    plt.axis('tight')\n",
    "    plt.title('K = ' + str(p['n_neighbors']))"
   ]
  },
  {
   "cell_type": "markdown",
   "metadata": {
    "collapsed": true
   },
   "source": [
    "### The Assignment"
   ]
  },
  {
   "cell_type": "markdown",
   "metadata": {
    "collapsed": true
   },
   "source": [
    "Load up the dataset into a variable called `X`. Check `.head` and `dtypes` to make sure you're loading your data properly--don't fail on the 1st step!"
   ]
  },
  {
   "cell_type": "code",
   "execution_count": 33,
   "metadata": {},
   "outputs": [
    {
     "data": {
      "text/html": [
       "<div>\n",
       "<style>\n",
       "    .dataframe thead tr:only-child th {\n",
       "        text-align: right;\n",
       "    }\n",
       "\n",
       "    .dataframe thead th {\n",
       "        text-align: left;\n",
       "    }\n",
       "\n",
       "    .dataframe tbody tr th {\n",
       "        vertical-align: top;\n",
       "    }\n",
       "</style>\n",
       "<table border=\"1\" class=\"dataframe\">\n",
       "  <thead>\n",
       "    <tr style=\"text-align: right;\">\n",
       "      <th></th>\n",
       "      <th>id</th>\n",
       "      <th>area</th>\n",
       "      <th>perimeter</th>\n",
       "      <th>compactness</th>\n",
       "      <th>length</th>\n",
       "      <th>width</th>\n",
       "      <th>asymmetry</th>\n",
       "      <th>groove</th>\n",
       "      <th>wheat_type</th>\n",
       "    </tr>\n",
       "  </thead>\n",
       "  <tbody>\n",
       "    <tr>\n",
       "      <th>0</th>\n",
       "      <td>0</td>\n",
       "      <td>15.26</td>\n",
       "      <td>14.84</td>\n",
       "      <td>0.8710</td>\n",
       "      <td>5.763</td>\n",
       "      <td>3.312</td>\n",
       "      <td>2.221</td>\n",
       "      <td>5.220</td>\n",
       "      <td>kama</td>\n",
       "    </tr>\n",
       "    <tr>\n",
       "      <th>1</th>\n",
       "      <td>1</td>\n",
       "      <td>14.88</td>\n",
       "      <td>14.57</td>\n",
       "      <td>0.8811</td>\n",
       "      <td>5.554</td>\n",
       "      <td>3.333</td>\n",
       "      <td>1.018</td>\n",
       "      <td>4.956</td>\n",
       "      <td>kama</td>\n",
       "    </tr>\n",
       "    <tr>\n",
       "      <th>2</th>\n",
       "      <td>2</td>\n",
       "      <td>14.29</td>\n",
       "      <td>14.09</td>\n",
       "      <td>0.9050</td>\n",
       "      <td>5.291</td>\n",
       "      <td>3.337</td>\n",
       "      <td>2.699</td>\n",
       "      <td>4.825</td>\n",
       "      <td>kama</td>\n",
       "    </tr>\n",
       "    <tr>\n",
       "      <th>3</th>\n",
       "      <td>3</td>\n",
       "      <td>13.84</td>\n",
       "      <td>13.94</td>\n",
       "      <td>0.8955</td>\n",
       "      <td>5.324</td>\n",
       "      <td>3.379</td>\n",
       "      <td>2.259</td>\n",
       "      <td>4.805</td>\n",
       "      <td>kama</td>\n",
       "    </tr>\n",
       "    <tr>\n",
       "      <th>4</th>\n",
       "      <td>4</td>\n",
       "      <td>16.14</td>\n",
       "      <td>14.99</td>\n",
       "      <td>0.9034</td>\n",
       "      <td>5.658</td>\n",
       "      <td>3.562</td>\n",
       "      <td>1.355</td>\n",
       "      <td>5.175</td>\n",
       "      <td>kama</td>\n",
       "    </tr>\n",
       "  </tbody>\n",
       "</table>\n",
       "</div>"
      ],
      "text/plain": [
       "   id   area  perimeter  compactness  length  width  asymmetry  groove  \\\n",
       "0   0  15.26      14.84       0.8710   5.763  3.312      2.221   5.220   \n",
       "1   1  14.88      14.57       0.8811   5.554  3.333      1.018   4.956   \n",
       "2   2  14.29      14.09       0.9050   5.291  3.337      2.699   4.825   \n",
       "3   3  13.84      13.94       0.8955   5.324  3.379      2.259   4.805   \n",
       "4   4  16.14      14.99       0.9034   5.658  3.562      1.355   5.175   \n",
       "\n",
       "  wheat_type  \n",
       "0       kama  \n",
       "1       kama  \n",
       "2       kama  \n",
       "3       kama  \n",
       "4       kama  "
      ]
     },
     "metadata": {},
     "output_type": "display_data"
    },
    {
     "data": {
      "text/plain": [
       "id               int64\n",
       "area           float64\n",
       "perimeter      float64\n",
       "compactness    float64\n",
       "length         float64\n",
       "width          float64\n",
       "asymmetry      float64\n",
       "groove         float64\n",
       "wheat_type      object\n",
       "dtype: object"
      ]
     },
     "execution_count": 33,
     "metadata": {},
     "output_type": "execute_result"
    }
   ],
   "source": [
    "# .. your code here ..\n",
    "from IPython.display import display\n",
    "X = pd.read_csv('/home/shubham/projects/DAT210x/Module5/Datasets/wheat.data')\n",
    "display(X.head())\n",
    "X.dtypes"
   ]
  },
  {
   "cell_type": "markdown",
   "metadata": {},
   "source": [
    "Copy the `wheat_type` series slice out of `X`, and into a series called `y`. Then drop the original `wheat_type` column from the `X`:"
   ]
  },
  {
   "cell_type": "code",
   "execution_count": 34,
   "metadata": {},
   "outputs": [
    {
     "data": {
      "text/html": [
       "<div>\n",
       "<style>\n",
       "    .dataframe thead tr:only-child th {\n",
       "        text-align: right;\n",
       "    }\n",
       "\n",
       "    .dataframe thead th {\n",
       "        text-align: left;\n",
       "    }\n",
       "\n",
       "    .dataframe tbody tr th {\n",
       "        vertical-align: top;\n",
       "    }\n",
       "</style>\n",
       "<table border=\"1\" class=\"dataframe\">\n",
       "  <thead>\n",
       "    <tr style=\"text-align: right;\">\n",
       "      <th></th>\n",
       "      <th>area</th>\n",
       "      <th>perimeter</th>\n",
       "      <th>compactness</th>\n",
       "      <th>length</th>\n",
       "      <th>width</th>\n",
       "      <th>asymmetry</th>\n",
       "      <th>groove</th>\n",
       "    </tr>\n",
       "  </thead>\n",
       "  <tbody>\n",
       "    <tr>\n",
       "      <th>0</th>\n",
       "      <td>15.26</td>\n",
       "      <td>14.84</td>\n",
       "      <td>0.8710</td>\n",
       "      <td>5.763</td>\n",
       "      <td>3.312</td>\n",
       "      <td>2.221</td>\n",
       "      <td>5.220</td>\n",
       "    </tr>\n",
       "    <tr>\n",
       "      <th>1</th>\n",
       "      <td>14.88</td>\n",
       "      <td>14.57</td>\n",
       "      <td>0.8811</td>\n",
       "      <td>5.554</td>\n",
       "      <td>3.333</td>\n",
       "      <td>1.018</td>\n",
       "      <td>4.956</td>\n",
       "    </tr>\n",
       "    <tr>\n",
       "      <th>2</th>\n",
       "      <td>14.29</td>\n",
       "      <td>14.09</td>\n",
       "      <td>0.9050</td>\n",
       "      <td>5.291</td>\n",
       "      <td>3.337</td>\n",
       "      <td>2.699</td>\n",
       "      <td>4.825</td>\n",
       "    </tr>\n",
       "    <tr>\n",
       "      <th>3</th>\n",
       "      <td>13.84</td>\n",
       "      <td>13.94</td>\n",
       "      <td>0.8955</td>\n",
       "      <td>5.324</td>\n",
       "      <td>3.379</td>\n",
       "      <td>2.259</td>\n",
       "      <td>4.805</td>\n",
       "    </tr>\n",
       "    <tr>\n",
       "      <th>4</th>\n",
       "      <td>16.14</td>\n",
       "      <td>14.99</td>\n",
       "      <td>0.9034</td>\n",
       "      <td>5.658</td>\n",
       "      <td>3.562</td>\n",
       "      <td>1.355</td>\n",
       "      <td>5.175</td>\n",
       "    </tr>\n",
       "  </tbody>\n",
       "</table>\n",
       "</div>"
      ],
      "text/plain": [
       "    area  perimeter  compactness  length  width  asymmetry  groove\n",
       "0  15.26      14.84       0.8710   5.763  3.312      2.221   5.220\n",
       "1  14.88      14.57       0.8811   5.554  3.333      1.018   4.956\n",
       "2  14.29      14.09       0.9050   5.291  3.337      2.699   4.825\n",
       "3  13.84      13.94       0.8955   5.324  3.379      2.259   4.805\n",
       "4  16.14      14.99       0.9034   5.658  3.562      1.355   5.175"
      ]
     },
     "metadata": {},
     "output_type": "display_data"
    },
    {
     "data": {
      "text/plain": [
       "0    kama\n",
       "1    kama\n",
       "2    kama\n",
       "3    kama\n",
       "4    kama\n",
       "Name: wheat_type, dtype: object"
      ]
     },
     "execution_count": 34,
     "metadata": {},
     "output_type": "execute_result"
    }
   ],
   "source": [
    "# .. your code here ..\n",
    "y = X['wheat_type']\n",
    "X = X.drop(['wheat_type','id'], axis=1)\n",
    "display(X.head())\n",
    "y.head()"
   ]
  },
  {
   "cell_type": "markdown",
   "metadata": {},
   "source": [
    "Do a quick, \"ordinal\" conversion of `y`. In actuality our classification isn't ordinal, but just as an experiment..."
   ]
  },
  {
   "cell_type": "code",
   "execution_count": 35,
   "metadata": {},
   "outputs": [
    {
     "data": {
      "text/plain": [
       "0    kama\n",
       "1    kama\n",
       "2    kama\n",
       "3    kama\n",
       "4    kama\n",
       "Name: wheat_type, dtype: object"
      ]
     },
     "metadata": {},
     "output_type": "display_data"
    },
    {
     "data": {
      "text/plain": [
       "0    1\n",
       "1    1\n",
       "2    1\n",
       "3    1\n",
       "4    1\n",
       "dtype: int8"
      ]
     },
     "metadata": {},
     "output_type": "display_data"
    }
   ],
   "source": [
    "# .. your code here ..\n",
    "y.unique()\n",
    "display(y.head())\n",
    "y = y.astype('category').cat.codes\n",
    "display(y.head())"
   ]
  },
  {
   "cell_type": "markdown",
   "metadata": {},
   "source": [
    "Do some basic nan munging. Fill each row's nans with the mean of the feature:"
   ]
  },
  {
   "cell_type": "code",
   "execution_count": 36,
   "metadata": {
    "collapsed": true
   },
   "outputs": [],
   "source": [
    "# .. your code here ..\n",
    "X.compactness.fillna(X.compactness.mean(), inplace = True)\n",
    "X.width.fillna(X.width.mean(), inplace = True)\n",
    "X.groove.fillna(X.groove.mean(), inplace = True)"
   ]
  },
  {
   "cell_type": "markdown",
   "metadata": {},
   "source": [
    "Split `X` into training and testing data sets using `train_test_split()`. Use `0.33` test size, and use `random_state=1`. This is important so that your answers are verifiable. In the real world, you wouldn't specify a random_state:"
   ]
  },
  {
   "cell_type": "code",
   "execution_count": 37,
   "metadata": {},
   "outputs": [],
   "source": [
    "# .. your code here ..\n",
    "from sklearn.cross_validation import train_test_split\n",
    "X_train, X_test, y_train, y_test = train_test_split(X, y, test_size=0.33, random_state=1)"
   ]
  },
  {
   "cell_type": "markdown",
   "metadata": {},
   "source": [
    "Create an instance of SKLearn's Normalizer class and then train it using its .fit() method against your _training_ data. The reason you only fit against your training data is because in a real-world situation, you'll only have your training data to train with! In this lab setting, you have both train+test data; but in the wild, you'll only have your training data, and then unlabeled data you want to apply your models to."
   ]
  },
  {
   "cell_type": "code",
   "execution_count": 38,
   "metadata": {},
   "outputs": [
    {
     "data": {
      "text/plain": [
       "Normalizer(copy=True, norm='l2')"
      ]
     },
     "execution_count": 38,
     "metadata": {},
     "output_type": "execute_result"
    }
   ],
   "source": [
    "# .. your code here ..\n",
    "from sklearn.preprocessing import Normalizer\n",
    "prep = Normalizer()\n",
    "prep.fit(X_train)"
   ]
  },
  {
   "cell_type": "markdown",
   "metadata": {},
   "source": [
    "With your trained pre-processor, transform both your training AND testing data. Any testing data has to be transformed with your preprocessor that has ben fit against your training data, so that it exist in the same feature-space as the original data used to train your models."
   ]
  },
  {
   "cell_type": "code",
   "execution_count": 39,
   "metadata": {
    "collapsed": true
   },
   "outputs": [],
   "source": [
    "# .. your code here ..\n",
    "X_train_norm = prep.transform(X_train)\n",
    "X_test_norm = prep.transform(X_test)\n"
   ]
  },
  {
   "cell_type": "markdown",
   "metadata": {
    "collapsed": true
   },
   "source": [
    "Just like your preprocessing transformation, create a PCA transformation as well. Fit it against your training data, and then project your training and testing features into PCA space using the PCA model's `.transform()` method. This has to be done because the only way to visualize the decision boundary in 2D would be if your KNN algo ran in 2D as well:"
   ]
  },
  {
   "cell_type": "code",
   "execution_count": 40,
   "metadata": {
    "collapsed": true
   },
   "outputs": [],
   "source": [
    "# .. your code here ..\n",
    "from sklearn.decomposition import PCA\n",
    "\n",
    "pca = PCA(n_components=2, svd_solver='randomized')\n",
    "pca.fit(X_train_norm)\n",
    "\n",
    "pca_train = pca.transform(X_train_norm)\n",
    "pca_test = pca.transform(X_test_norm)"
   ]
  },
  {
   "cell_type": "markdown",
   "metadata": {},
   "source": [
    "Create and train a KNeighborsClassifier. Start with `K=9` neighbors. Be sure train your classifier against the pre-processed, PCA- transformed training data above! You do not, of course, need to transform your labels."
   ]
  },
  {
   "cell_type": "code",
   "execution_count": 41,
   "metadata": {},
   "outputs": [
    {
     "data": {
      "text/plain": [
       "KNeighborsClassifier(algorithm='auto', leaf_size=30, metric='minkowski',\n",
       "           metric_params=None, n_jobs=1, n_neighbors=9, p=2,\n",
       "           weights='uniform')"
      ]
     },
     "execution_count": 41,
     "metadata": {},
     "output_type": "execute_result"
    }
   ],
   "source": [
    "# .. your code here ..\n",
    "from sklearn.neighbors import KNeighborsClassifier\n",
    "\n",
    "knn = KNeighborsClassifier(n_neighbors=9)\n",
    "knn.fit(pca_train, y_train)"
   ]
  },
  {
   "cell_type": "code",
   "execution_count": 42,
   "metadata": {},
   "outputs": [
    {
     "name": "stdout",
     "output_type": "stream",
     "text": [
      "[[ 0.0669871   0.01377793]\n",
      " [-0.00501622 -0.06383211]\n",
      " [-0.07441542 -0.04096705]\n",
      " [-0.03274657  0.0340835 ]\n",
      " [-0.09885512  0.01336299]\n",
      " [-0.04850527  0.0179993 ]\n",
      " [ 0.07632935  0.04870077]\n",
      " [ 0.18520312 -0.01674952]\n",
      " [-0.04232816  0.01176278]\n",
      " [-0.01035861  0.04482983]\n",
      " [-0.09114483  0.04834327]\n",
      " [ 0.1180179  -0.0008273 ]\n",
      " [-0.08297059  0.04906968]\n",
      " [-0.10042278 -0.01776018]\n",
      " [-0.08231936 -0.04732277]\n",
      " [ 0.13320158  0.02851528]\n",
      " [ 0.02600824 -0.08615859]\n",
      " [ 0.12009219  0.03490673]\n",
      " [-0.07668619 -0.03399604]\n",
      " [ 0.02085684 -0.00531152]\n",
      " [-0.04676636  0.01180451]\n",
      " [-0.07338047 -0.04512076]\n",
      " [ 0.02171069 -0.01769465]\n",
      " [ 0.06699227  0.01746435]\n",
      " [ 0.0158544   0.0421241 ]\n",
      " [ 0.0021977  -0.07580973]\n",
      " [ 0.07693901  0.03947686]\n",
      " [ 0.11969077  0.01293024]\n",
      " [-0.01089968  0.01722802]\n",
      " [ 0.10517529  0.02843767]\n",
      " [-0.01930508 -0.08425955]\n",
      " [ 0.14224145  0.01199258]\n",
      " [ 0.09071582  0.04923893]\n",
      " [-0.0769841   0.04806082]\n",
      " [-0.0420384  -0.0814437 ]\n",
      " [-0.0641866  -0.04167294]\n",
      " [-0.05288403 -0.00351821]\n",
      " [ 0.01298109  0.09590023]\n",
      " [ 0.07838168 -0.00542822]\n",
      " [ 0.10143579  0.01399425]\n",
      " [-0.05487287 -0.05107776]\n",
      " [ 0.07337271  0.044497  ]\n",
      " [ 0.20563031 -0.07413019]\n",
      " [-0.03634987 -0.02233405]\n",
      " [ 0.09278973  0.0127503 ]\n",
      " [ 0.01711201 -0.04214646]\n",
      " [-0.03215284  0.0256816 ]\n",
      " [-0.07034913 -0.04001421]\n",
      " [ 0.07248483  0.03167093]\n",
      " [-0.03916354  0.01105783]\n",
      " [-0.02255631 -0.0354168 ]\n",
      " [-0.08656403 -0.01974911]\n",
      " [ 0.13294836  0.02071305]\n",
      " [-0.00519897 -0.00164641]\n",
      " [ 0.13492656  0.02007972]\n",
      " [ 0.00293745 -0.0942375 ]\n",
      " [-0.06546088  0.01791937]\n",
      " [ 0.18241698 -0.00603173]\n",
      " [-0.04504614 -0.0731468 ]\n",
      " [ 0.04239973 -0.09284102]\n",
      " [-0.03345778  0.04124459]\n",
      " [-0.10152817  0.02828917]\n",
      " [-0.01625612 -0.02923803]\n",
      " [-0.0662544  -0.04106236]\n",
      " [ 0.0890231   0.02207835]\n",
      " [-0.04850863 -0.03818996]\n",
      " [-0.02880211  0.05361959]\n",
      " [ 0.024015   -0.02391582]\n",
      " [ 0.01989792  0.00833513]\n",
      " [-0.0392569  -0.02603561]\n",
      " [-0.12947953 -0.01802948]\n",
      " [-0.02453337  0.06548033]\n",
      " [-0.00515992 -0.03276577]\n",
      " [-0.03512224 -0.05743281]\n",
      " [-0.05985079  0.08422741]\n",
      " [-0.0247038  -0.0528794 ]\n",
      " [-0.08801043  0.00548945]\n",
      " [-0.04677091  0.08426033]\n",
      " [-0.06268692 -0.04228249]\n",
      " [ 0.01247795  0.05225383]\n",
      " [-0.01547214 -0.0135861 ]\n",
      " [-0.0573409  -0.05138606]\n",
      " [ 0.05987626 -0.00678147]\n",
      " [-0.08111141  0.0734957 ]\n",
      " [ 0.01635495 -0.02138228]\n",
      " [-0.04292467  0.04119098]\n",
      " [ 0.08844701  0.03983361]\n",
      " [-0.11490571 -0.01523759]\n",
      " [ 0.04195076 -0.05218813]\n",
      " [ 0.02137541 -0.00107914]\n",
      " [ 0.01179804  0.02587796]\n",
      " [-0.02791405 -0.02868273]\n",
      " [ 0.02738725 -0.02841188]\n",
      " [-0.07993244  0.02836535]\n",
      " [-0.05028085  0.02965581]\n",
      " [ 0.10458756 -0.01533813]\n",
      " [-0.06335393  0.02753435]\n",
      " [ 0.15316649  0.03233148]\n",
      " [-0.0797233  -0.03920802]\n",
      " [-0.00995716  0.03454824]\n",
      " [-0.09680651  0.07785767]\n",
      " [-0.04581271 -0.03803578]\n",
      " [-0.10032068 -0.02578505]\n",
      " [ 0.13324366 -0.01958832]\n",
      " [-0.08414165  0.00841765]\n",
      " [ 0.01265692  0.07345847]\n",
      " [-0.12028037 -0.03186651]\n",
      " [-0.11128726  0.04098457]\n",
      " [-0.10812644  0.03518508]\n",
      " [-0.13165048  0.02785432]\n",
      " [-0.00950518  0.07451804]\n",
      " [ 0.04235844  0.00945069]\n",
      " [-0.03205329  0.02403772]\n",
      " [ 0.09000242  0.03903808]\n",
      " [ 0.15696758 -0.04104712]\n",
      " [-0.1208609  -0.0183301 ]\n",
      " [-0.06229015 -0.04651277]\n",
      " [-0.08475727  0.04609907]\n",
      " [ 0.01427115 -0.00460842]\n",
      " [ 0.11550001 -0.02451903]\n",
      " [ 0.0947203   0.0255607 ]\n",
      " [ 0.04236477  0.05689564]\n",
      " [-0.01689697 -0.01819848]\n",
      " [-0.00891649  0.08753711]\n",
      " [-0.10019343 -0.01701415]\n",
      " [-0.01631472  0.02023372]\n",
      " [ 0.15224172  0.00163818]\n",
      " [-0.12629909  0.02579308]\n",
      " [ 0.0371874  -0.03075481]\n",
      " [ 0.0080894  -0.0370395 ]\n",
      " [ 0.01862409 -0.06727783]\n",
      " [ 0.08534784  0.03349516]\n",
      " [ 0.04321945  0.04033145]\n",
      " [-0.0627422  -0.01788109]\n",
      " [ 0.00253236 -0.02362141]\n",
      " [ 0.22331651 -0.07219189]\n",
      " [-0.04822616  0.01662985]\n",
      " [-0.00378858 -0.04376186]\n",
      " [ 0.09452742 -0.00312768]\n",
      " [-0.06106258 -0.02458237]]\n"
     ]
    }
   ],
   "source": [
    "# I hope your KNeighbors classifier model from earlier was named 'knn'\n",
    "# If not, adjust the following line:\n",
    "print pca_train\n",
    "plotDecisionBoundary(knn, pca_train, y_train)"
   ]
  },
  {
   "cell_type": "markdown",
   "metadata": {},
   "source": [
    "Display the accuracy score of your test data/labels, computed by your KNeighbors model. You do NOT have to run `.predict` before calling `.score`, since `.score` will take care of running your predictions for you automatically."
   ]
  },
  {
   "cell_type": "code",
   "execution_count": 43,
   "metadata": {
    "scrolled": true
   },
   "outputs": [
    {
     "name": "stdout",
     "output_type": "stream",
     "text": [
      "0.871428571429\n"
     ]
    }
   ],
   "source": [
    "# .. your code here ..\n",
    "accuracy_score = knn.score(pca_test, y_test)\n",
    "print(accuracy_score)"
   ]
  },
  {
   "cell_type": "code",
   "execution_count": 44,
   "metadata": {},
   "outputs": [
    {
     "data": {
      "text/plain": [
       "array([1], dtype=int8)"
      ]
     },
     "execution_count": 44,
     "metadata": {},
     "output_type": "execute_result"
    }
   ],
   "source": [
    "t = [[15.3,15,0.84,6,3,2.5,5]]\n",
    "k = prep.transform(t)\n",
    "l = pca.transform(k)\n",
    "knn.predict(l)"
   ]
  },
  {
   "cell_type": "markdown",
   "metadata": {},
   "source": [
    "### Bonus"
   ]
  },
  {
   "cell_type": "markdown",
   "metadata": {},
   "source": [
    "Instead of the ordinal conversion, try and get this assignment working with a proper Pandas get_dummies for feature encoding. You might have to update some of the `plotDecisionBoundary()` code."
   ]
  },
  {
   "cell_type": "code",
   "execution_count": 45,
   "metadata": {},
   "outputs": [
    {
     "data": {
      "image/png": "[encoded data removed]",
      "text/plain": [
       "<matplotlib.figure.Figure at 0x7f358c3f7610>"
      ]
     },
     "metadata": {},
     "output_type": "display_data"
    }
   ],
   "source": [
    "plt.show()"
   ]
  },
  {
   "cell_type": "code",
   "execution_count": null,
   "metadata": {
    "collapsed": true
   },
   "outputs": [],
   "source": []
  }
 ],
 "metadata": {
  "anaconda-cloud": {},
  "kernelspec": {
   "display_name": "Python 2",
   "language": "python",
   "name": "python2"
  },
  "language_info": {
   "codemirror_mode": {
    "name": "ipython",
    "version": 2
   },
   "file_extension": ".py",
   "mimetype": "text/x-python",
   "name": "python",
   "nbconvert_exporter": "python",
   "pygments_lexer": "ipython2",
   "version": "2.7.11"
  },
  "toc": {
   "colors": {
    "hover_highlight": "#DAA520",
    "running_highlight": "#FF0000",
    "selected_highlight": "#FFD700"
   },
   "moveMenuLeft": true,
   "nav_menu": {
    "height": "58px",
    "width": "252px"
   },
   "navigate_menu": true,
   "number_sections": true,
   "sideBar": true,
   "threshold": 4,
   "toc_cell": false,
   "toc_section_display": "block",
   "toc_window_display": false,
   "widenNotebook": false
  }
 },
 "nbformat": 4,
 "nbformat_minor": 2
}
