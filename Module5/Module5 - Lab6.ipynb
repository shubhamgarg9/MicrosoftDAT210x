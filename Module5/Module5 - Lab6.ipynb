{
 "cells": [
  {
   "cell_type": "markdown",
   "metadata": {},
   "source": [
    "# DAT210x - Programming with Python for DS"
   ]
  },
  {
   "cell_type": "markdown",
   "metadata": {},
   "source": [
    "## Module5- Lab6"
   ]
  },
  {
   "cell_type": "code",
   "execution_count": 1,
   "metadata": {
    "collapsed": true
   },
   "outputs": [],
   "source": [
    "# import random, math\n",
    "# import pandas as pd\n",
    "# import numpy as np\n",
    "# import scipy.io\n",
    "\n",
    "# from mpl_toolkits.mplot3d import Axes3D\n",
    "# import matplotlib.pyplot as plt\n",
    "# import matplotlib\n",
    "\n",
    "# matplotlib.style.use('ggplot') # Look Pretty\n",
    "\n",
    "\n",
    "# # Leave this alone until indicated:\n",
    "# Test_PCA = False"
   ]
  },
  {
   "cell_type": "markdown",
   "metadata": {},
   "source": [
    "### A Convenience Function"
   ]
  },
  {
   "cell_type": "markdown",
   "metadata": {},
   "source": [
    "This method is for your visualization convenience only. You aren't expected to know how to put this together yourself, although you should be able to follow the code by now:"
   ]
  },
  {
   "cell_type": "code",
   "execution_count": 2,
   "metadata": {
    "collapsed": true
   },
   "outputs": [],
   "source": [
    "# def Plot2DBoundary(DTrain, LTrain, DTest, LTest):\n",
    "#     # The dots are training samples (img not drawn), and the pics are testing samples (images drawn)\n",
    "#     # Play around with the K values. This is very controlled dataset so it should be able to get perfect classification on testing entries\n",
    "#     # Play with the K for isomap, play with the K for neighbors. \n",
    "\n",
    "#     fig = plt.figure()\n",
    "#     ax = fig.add_subplot(111)\n",
    "#     ax.set_title('Transformed Boundary, Image Space -> 2D')\n",
    "\n",
    "#     padding = 0.1   # Zoom out\n",
    "#     resolution = 1  # Don't get too detailed; smaller values (finer rez) will take longer to compute\n",
    "#     colors = ['blue','green','orange','red']\n",
    "\n",
    "\n",
    "#     # ------\n",
    "\n",
    "#     # Calculate the boundaries of the mesh grid. The mesh grid is\n",
    "#     # a standard grid (think graph paper), where each point will be\n",
    "#     # sent to the classifier (KNeighbors) to predict what class it\n",
    "#     # belongs to. This is why KNeighbors has to be trained against\n",
    "#     # 2D data, so we can produce this countour. Once we have the \n",
    "#     # label for each point on the grid, we can color it appropriately\n",
    "#     # and plot it.\n",
    "#     x_min, x_max = DTrain[:, 0].min(), DTrain[:, 0].max()\n",
    "#     y_min, y_max = DTrain[:, 1].min(), DTrain[:, 1].max()\n",
    "#     x_range = x_max - x_min\n",
    "#     y_range = y_max - y_min\n",
    "#     x_min -= x_range * padding\n",
    "#     y_min -= y_range * padding\n",
    "#     x_max += x_range * padding\n",
    "#     y_max += y_range * padding\n",
    "\n",
    "#     # Using the boundaries, actually make the 2D Grid Matrix:\n",
    "#     xx, yy = np.meshgrid(np.arange(x_min, x_max, resolution),\n",
    "#                          np.arange(y_min, y_max, resolution))\n",
    "\n",
    "#     # What class does the classifier say about each spot on the chart?\n",
    "#     # The values stored in the matrix are the predictions of the model\n",
    "#     # at said location:\n",
    "#     Z = model.predict(np.c_[xx.ravel(), yy.ravel()])\n",
    "#     Z = Z.reshape(xx.shape)\n",
    "\n",
    "#     # Plot the mesh grid as a filled contour plot:\n",
    "#     plt.contourf(xx, yy, Z, cmap=plt.cm.terrain, z=-100)\n",
    "\n",
    "\n",
    "#     # ------\n",
    "\n",
    "#     # When plotting the testing images, used to validate if the algorithm\n",
    "#     # is functioning correctly, size them as 5% of the overall chart size\n",
    "#     x_size = x_range * 0.05\n",
    "#     y_size = y_range * 0.05\n",
    "\n",
    "#     # First, plot the images in your TEST dataset\n",
    "#     img_num = 0\n",
    "#     for index in LTest.index:\n",
    "#         # DTest is a regular NDArray, so you'll iterate over that 1 at a time.\n",
    "#         x0, y0 = DTest[img_num,0]-x_size/2., DTest[img_num,1]-y_size/2.\n",
    "#         x1, y1 = DTest[img_num,0]+x_size/2., DTest[img_num,1]+y_size/2.\n",
    "\n",
    "#         # DTest = our images isomap-transformed into 2D. But we still want\n",
    "#         # to plot the original image, so we look to the original, untouched\n",
    "#         # dataset (at index) to get the pixels:\n",
    "#         img = df.iloc[index,:].reshape(num_pixels, num_pixels)\n",
    "#         ax.imshow(img,\n",
    "#                   aspect='auto',\n",
    "#                   cmap=plt.cm.gray,\n",
    "#                   interpolation='nearest',\n",
    "#                   zorder=100000,\n",
    "#                   extent=(x0, x1, y0, y1),\n",
    "#                   alpha=0.8)\n",
    "#         img_num += 1\n",
    "\n",
    "\n",
    "#     # Plot your TRAINING points as well... as points rather than as images\n",
    "#     for label in range(len(np.unique(LTrain))):\n",
    "#         indices = np.where(LTrain == label)\n",
    "#         ax.scatter(DTrain[indices, 0], DTrain[indices, 1], c=colors[label], alpha=0.8, marker='o')\n",
    "\n",
    "#     # Plot\n",
    "#     plt.show()  "
   ]
  },
  {
   "cell_type": "markdown",
   "metadata": {
    "collapsed": true
   },
   "source": [
    "### The Assignment"
   ]
  },
  {
   "cell_type": "markdown",
   "metadata": {
    "collapsed": true
   },
   "source": [
    "Use the same code from Module4/assignment4.ipynb to load up the `face_data.mat` file into a dataframe called `df`. Be sure to calculate the `num_pixels` value, and to rotate the images to being right-side-up instead of sideways. This was demonstrated in the [Lab Assignment 4](https://github.com/authman/DAT210x/blob/master/Module4/assignment4.ipynb) code."
   ]
  },
  {
   "cell_type": "code",
   "execution_count": 3,
   "metadata": {
    "collapsed": true
   },
   "outputs": [],
   "source": [
    "# # .. your code here ..\n",
    "# mat = scipy.io.loadmat('/home/shubham/projects/DAT210x/Module4/Datasets/face_data.mat')\n",
    "# df = pd.DataFrame(mat['images']).T\n",
    "# num_images, num_pixels = df.shape\n",
    "# num_pixels = int(math.sqrt(num_pixels))\n",
    "# display(df.shape)\n",
    "# # Rotate the pictures, so we don't have to crane our necks:\n",
    "# for i in range(num_images):\n",
    "#     df.loc[i,:] = df.loc[i,:].reshape(num_pixels, num_pixels).T.reshape(-1)"
   ]
  },
  {
   "cell_type": "markdown",
   "metadata": {},
   "source": [
    "Load up your face_labels dataset. It only has a single column, and you're only interested in that single column. You will have to slice the  column out so that you have access to it as a \"Series\" rather than as a \"Dataframe\". This was discussed in the the \"Slicin'\" lecture of the  \"Manipulating Data\" reading on the course website. Use an appropriate indexer to take care of that. Be sure to print out the labels and compare what you see to the raw `face_labels.csv` so you know you loaded it correctly."
   ]
  },
  {
   "cell_type": "code",
   "execution_count": 4,
   "metadata": {
    "collapsed": true
   },
   "outputs": [],
   "source": [
    "# # .. your code here ..\n",
    "# y = pd.read_csv('/home/shubham/projects/DAT210x/Module5/Datasets/face_labels.csv')\n",
    "# display(y.head())\n",
    "# y = y.iloc[:,0]\n",
    "# y.size"
   ]
  },
  {
   "cell_type": "markdown",
   "metadata": {},
   "source": [
    "Do `train_test_split`. Use the same code as on the EdX platform in the reading material, but set the random_state=7 for reproducibility, and the test_size to 0.15 (150%). Your labels are actually passed in as a series (instead of as an NDArray) so that you can access their underlying indices later on. This is necessary so you can find your samples in the original dataframe. The convenience methods we've written for you that handle drawing expect this, so that they can plot your testing data as images rather than as points:"
   ]
  },
  {
   "cell_type": "code",
   "execution_count": 5,
   "metadata": {
    "collapsed": true
   },
   "outputs": [],
   "source": [
    "# # .. your code here ..\n",
    "# from sklearn.model_selection import train_test_split\n",
    "# data_train, data_test, label_train, label_test = train_test_split(df, y, test_size=0.15, random_state=7)"
   ]
  },
  {
   "cell_type": "markdown",
   "metadata": {},
   "source": [
    "### Dimensionality Reduction"
   ]
  },
  {
   "cell_type": "code",
   "execution_count": 6,
   "metadata": {
    "collapsed": true
   },
   "outputs": [],
   "source": [
    "# if Test_PCA:\n",
    "#     # INFO: PCA is used *before* KNeighbors to simplify your high dimensionality\n",
    "#     # image samples down to just 2 principal components! A lot of information\n",
    "#     # (variance) is lost during the process, as I'm sure you can imagine. But\n",
    "#     # you have to drop the dimension down to two, otherwise you wouldn't be able\n",
    "#     # to visualize a 2D decision surface / boundary. In the wild, you'd probably\n",
    "#     # leave in a lot more dimensions, which is better for higher accuracy, but\n",
    "#     # worse for visualizing the decision boundary;\n",
    "#     #\n",
    "#     # Your model should only be trained (fit) against the training data (data_train)\n",
    "#     # Once you've done this, you need use the model to transform both data_train\n",
    "#     # and data_test from their original high-D image feature space, down to 2D\n",
    "\n",
    "\n",
    "#     # TODO: Implement PCA here. ONLY train against your training data, but\n",
    "#     # transform both your training + test data, storing the results back into\n",
    "#     # data_train, and data_test.\n",
    "    \n",
    "#     # .. your code here ..\n",
    "\n",
    "# else:\n",
    "#     # INFO: Isomap is used *before* KNeighbors to simplify your high dimensionality\n",
    "#     # image samples down to just 2 components! A lot of information has been is\n",
    "#     # lost during the process, as I'm sure you can imagine. But if you have\n",
    "#     # non-linear data that can be represented on a 2D manifold, you probably will\n",
    "#     # be left with a far superior dataset to use for classification. Plus by\n",
    "#     # having the images in 2D space, you can plot them as well as visualize a 2D\n",
    "#     # decision surface / boundary. In the wild, you'd probably leave in a lot more\n",
    "#     # dimensions, which is better for higher accuracy, but worse for visualizing the\n",
    "#     # decision boundary;\n",
    "    \n",
    "#     # Your model should only be trained (fit) against the training data (data_train)\n",
    "#     # Once you've done this, you need use the model to transform both data_train\n",
    "#     # and data_test from their original high-D image feature space, down to 2D\n",
    "\n",
    "    \n",
    "#     # TODO: Implement Isomap here. ONLY train against your training data, but\n",
    "#     # transform both your training + test data, storing the results back into\n",
    "#     # data_train, and data_test.\n",
    "    \n",
    "#     # .. your code here .."
   ]
  },
  {
   "cell_type": "markdown",
   "metadata": {},
   "source": [
    "Implement `KNeighborsClassifier` here. You can use any K value from 1 through 20, so play around with it and attempt to get good accuracy. Fit the classifier against your training data and labels."
   ]
  },
  {
   "cell_type": "code",
   "execution_count": 7,
   "metadata": {
    "collapsed": true
   },
   "outputs": [],
   "source": [
    "# .. your code here .."
   ]
  },
  {
   "cell_type": "markdown",
   "metadata": {},
   "source": [
    "Calculate and display the accuracy of the testing set (data_test and label_test):"
   ]
  },
  {
   "cell_type": "code",
   "execution_count": 8,
   "metadata": {
    "collapsed": true
   },
   "outputs": [],
   "source": [
    "# .. your code here .."
   ]
  },
  {
   "cell_type": "markdown",
   "metadata": {},
   "source": [
    "Let's chart the combined decision boundary, the training data as 2D plots, and the testing data as small images so we can visually validate performance:"
   ]
  },
  {
   "cell_type": "code",
   "execution_count": 9,
   "metadata": {
    "collapsed": true
   },
   "outputs": [],
   "source": [
    "# Plot2DBoundary(data_train, label_train, data_test, label_test)"
   ]
  },
  {
   "cell_type": "markdown",
   "metadata": {
    "collapsed": true
   },
   "source": [
    "After submitting your answers, experiment with using using PCA instead of ISOMap. Are the results what you expected? Also try tinkering around with the test/train split percentage from 10-20%. Notice anything?"
   ]
  },
  {
   "cell_type": "code",
   "execution_count": 10,
   "metadata": {
    "collapsed": true
   },
   "outputs": [],
   "source": [
    "# .. your code changes above .."
   ]
  },
  {
   "cell_type": "code",
   "execution_count": 3,
   "metadata": {},
   "outputs": [
    {
     "name": "stdout",
     "output_type": "stream",
     "text": [
      "no of rows in df are: 0       float64\n",
      "1       float64\n",
      "2       float64\n",
      "3       float64\n",
      "4       float64\n",
      "5       float64\n",
      "6       float64\n",
      "7       float64\n",
      "8       float64\n",
      "9       float64\n",
      "10      float64\n",
      "11      float64\n",
      "12      float64\n",
      "13      float64\n",
      "14      float64\n",
      "15      float64\n",
      "16      float64\n",
      "17      float64\n",
      "18      float64\n",
      "19      float64\n",
      "20      float64\n",
      "21      float64\n",
      "22      float64\n",
      "23      float64\n",
      "24      float64\n",
      "25      float64\n",
      "26      float64\n",
      "27      float64\n",
      "28      float64\n",
      "29      float64\n",
      "         ...   \n",
      "4066    float64\n",
      "4067    float64\n",
      "4068    float64\n",
      "4069    float64\n",
      "4070    float64\n",
      "4071    float64\n",
      "4072    float64\n",
      "4073    float64\n",
      "4074    float64\n",
      "4075    float64\n",
      "4076    float64\n",
      "4077    float64\n",
      "4078    float64\n",
      "4079    float64\n",
      "4080    float64\n",
      "4081    float64\n",
      "4082    float64\n",
      "4083    float64\n",
      "4084    float64\n",
      "4085    float64\n",
      "4086    float64\n",
      "4087    float64\n",
      "4088    float64\n",
      "4089    float64\n",
      "4090    float64\n",
      "4091    float64\n",
      "4092    float64\n",
      "4093    float64\n",
      "4094    float64\n",
      "4095    float64\n",
      "Length: 4096, dtype: object\n"
     ]
    },
    {
     "name": "stderr",
     "output_type": "stream",
     "text": [
      "/home/shubham/anaconda2/lib/python2.7/site-packages/ipykernel_launcher.py:108: FutureWarning: reshape is deprecated and will raise in a subsequent release. Please use .values.reshape(...) instead\n"
     ]
    },
    {
     "name": "stdout",
     "output_type": "stream",
     "text": [
      "no of rows in y are: 698\n",
      "0.990476190476\n"
     ]
    },
    {
     "name": "stderr",
     "output_type": "stream",
     "text": [
      "/home/shubham/anaconda2/lib/python2.7/site-packages/matplotlib/contour.py:967: UserWarning: The following kwargs were not used by contour: 'z'\n",
      "  s)\n",
      "/home/shubham/anaconda2/lib/python2.7/site-packages/ipykernel_launcher.py:79: FutureWarning: reshape is deprecated and will raise in a subsequent release. Please use .values.reshape(...) instead\n"
     ]
    },
    {
     "data": {
      "image/png": "[encoded data removed]",
      "text/plain": [
       "<matplotlib.figure.Figure at 0x7f816f22c750>"
      ]
     },
     "metadata": {},
     "output_type": "display_data"
    }
   ],
   "source": [
    "import random, math\n",
    "import pandas as pd\n",
    "import numpy as np\n",
    "import scipy.io\n",
    "import matplotlib\n",
    "\n",
    "from mpl_toolkits.mplot3d import Axes3D\n",
    "import matplotlib.pyplot as plt\n",
    "\n",
    "# If you'd like to try this lab with PCA instead of Isomap,\n",
    "# as the dimensionality reduction technique:\n",
    "Test_PCA = False\n",
    "\n",
    "matplotlib.style.use('ggplot') # Look Pretty\n",
    "\n",
    "\n",
    "def Plot2DBoundary(model, DTrain, LTrain, DTest, LTest):\n",
    "    # The dots are training samples (img not drawn), and the pics are testing samples (images drawn)\n",
    "    # Play around with the K values. This is very controlled dataset so it should be able to get perfect classification on testing entries\n",
    "    # Play with the K for isomap, play with the K for neighbors. \n",
    "\n",
    "    fig = plt.figure()\n",
    "    ax = fig.add_subplot(111)\n",
    "    ax.set_title('Transformed Boundary, Image Space -> 2D')\n",
    "\n",
    "    padding = 0.1   # Zoom out\n",
    "    resolution = 1  # Don't get too detailed; smaller values (finer rez) will take longer to compute\n",
    "    colors = ['blue','green','orange','red']\n",
    "  \n",
    "    # ------\n",
    "\n",
    "    # Calculate the boundaries of the mesh grid. The mesh grid is\n",
    "    # a standard grid (think graph paper), where each point will be\n",
    "    # sent to the classifier (KNeighbors) to predict what class it\n",
    "    # belongs to. This is why KNeighbors has to be trained against\n",
    "    # 2D data, so we can produce this countour. Once we have the \n",
    "    # label for each point on the grid, we can color it appropriately\n",
    "    # and plot it.\n",
    "    x_min, x_max = DTrain[:, 0].min(), DTrain[:, 0].max()\n",
    "    y_min, y_max = DTrain[:, 1].min(), DTrain[:, 1].max()\n",
    "    x_range = x_max - x_min\n",
    "    y_range = y_max - y_min\n",
    "    x_min -= x_range * padding\n",
    "    y_min -= y_range * padding\n",
    "    x_max += x_range * padding\n",
    "    y_max += y_range * padding\n",
    "\n",
    "    # Using the boundaries, actually make the 2D Grid Matrix:\n",
    "    xx, yy = np.meshgrid(np.arange(x_min, x_max, resolution),\n",
    "                       np.arange(y_min, y_max, resolution))\n",
    "\n",
    "    # What class does the classifier say about each spot on the chart?\n",
    "    # The values stored in the matrix are the predictions of the model\n",
    "    # at said location:\n",
    "    Z = model.predict(np.c_[xx.ravel(), yy.ravel()])\n",
    "    Z = Z.reshape(xx.shape)\n",
    "\n",
    "    # Plot the mesh grid as a filled contour plot:\n",
    "    plt.contourf(xx, yy, Z, cmap=plt.cm.terrain, z=-100)\n",
    "\n",
    "\n",
    "    # ------\n",
    "\n",
    "    # When plotting the testing images, used to validate if the algorithm\n",
    "    # is functioning correctly, size them as 5% of the overall chart size\n",
    "    x_size = x_range * 0.05\n",
    "    y_size = y_range * 0.05\n",
    "  \n",
    "    # First, plot the images in your TEST dataset\n",
    "    img_num = 0\n",
    "    for index in LTest.index:\n",
    "        # DTest is a regular NDArray, so you'll iterate over that 1 at a time.\n",
    "        x0, y0 = DTest[img_num,0]-x_size/2., DTest[img_num,1]-y_size/2.\n",
    "        x1, y1 = DTest[img_num,0]+x_size/2., DTest[img_num,1]+y_size/2.\n",
    "\n",
    "        # DTest = our images isomap-transformed into 2D. But we still want\n",
    "        # to plot the original image, so we look to the original, untouched\n",
    "        # dataset (at index) to get the pixels:\n",
    "        img = df.iloc[index,:].reshape(num_pixels, num_pixels)\n",
    "        ax.imshow(img, aspect='auto', cmap=plt.cm.gray, interpolation='nearest', zorder=100000, extent=(x0, x1, y0, y1), alpha=0.8)\n",
    "        img_num += 1\n",
    "\n",
    "\n",
    "    # Plot your TRAINING points as well... as points rather than as images\n",
    "    for label in range(len(np.unique(LTrain))):\n",
    "        indices = np.where(LTrain == label)\n",
    "        ax.scatter(DTrain[indices, 0], DTrain[indices, 1], c=colors[label], alpha=0.8, marker='o')\n",
    "\n",
    "    # Plot\n",
    "    plt.show()  \n",
    "\n",
    "\n",
    "\n",
    "#\n",
    "# TODO: Use the same code from Module4/assignment4.py to load up the\n",
    "# face_data.mat in a dataset called \"df\". Be sure to calculate the\n",
    "# num_pixels value, and to rotate the images to being right-side-up\n",
    "# instead of sideways. This was demonstrated in the M4/A4 code:\n",
    "#\n",
    "# .. your code here ..\n",
    "\n",
    "mat = scipy.io.loadmat('/home/shubham/projects/DAT210x/Module4/Datasets/face_data.mat')\n",
    "df = pd.DataFrame(mat['images']).T\n",
    "num_images, num_pixels = df.shape\n",
    "num_pixels = int(math.sqrt(num_pixels))\n",
    "print 'no of rows in df are: ' + str(df.dtypes)\n",
    "for i in range(num_images):\n",
    "    df.loc[i,:] = df.loc[i,:].reshape(num_pixels, num_pixels).T.reshape(-1)\n",
    "\n",
    "\n",
    "#\n",
    "# TODO: Load up your face_labels dataset. It only has a single column, and\n",
    "# you're only interested in that single column. You will have to slice the \n",
    "# column out so that you have access to it as a \"Series\" rather than as a\n",
    "# \"Dataframe\". Use an appropriate indexer to take care of that. Also print\n",
    "# out the labels and compare to the face_labels.csv file to ensure you\n",
    "# loaded it correctly\n",
    "#\n",
    "# .. your code here ..\n",
    "\n",
    "y = pd.read_csv('/home/shubham/projects/DAT210x/Module5/Datasets/face_labels.csv', header=None)\n",
    "y = y.iloc[:, 0]\n",
    "print 'no of rows in y are: ' + str(y.size)\n",
    "\n",
    "#\n",
    "# TODO: Do train_test_split. Use the same code as on the EdX platform in the\n",
    "# reading material, but set the random_state=7 for reproduceability, and play\n",
    "# around with the test_size from 0.10 - 0.20 (10-20%). Your labels are actually\n",
    "# passed in as a series (instead of as an NDArray) so that you can access\n",
    "# their underlying indices later on. This is necessary so you can find your samples\n",
    "# in the original dataframe, which you will use to plot your testing data as images\n",
    "# rather than as points:\n",
    "#\n",
    "# .. your code here ..\n",
    "\n",
    "from sklearn.model_selection import train_test_split\n",
    "\n",
    "X_train, X_test, label_train, label_test = train_test_split(df, y, test_size=0.15, random_state=7)\n",
    "\n",
    "\n",
    "\n",
    "if Test_PCA:\n",
    "    # INFO: PCA is used *before* KNeighbors to simplify your high dimensionality\n",
    "    # image samples down to just 2 principal components! A lot of information\n",
    "    # (variance) is lost during the process, as I'm sure you can imagine. But\n",
    "    # you have to drop the dimension down to two, otherwise you wouldn't be able\n",
    "    # to visualize a 2D decision surface / boundary. In the wild, you'd probably\n",
    "    # leave in a lot more dimensions, but wouldn't need to plot the boundary;\n",
    "    # simply checking the results would suffice.\n",
    "    #\n",
    "    # Your model should only be trained (fit) against the training data (data_train)\n",
    "    # Once you've done this, you need use the model to transform both data_train\n",
    "    # and data_test from their original high-D image feature space, down to 2D\n",
    "\n",
    "    #\n",
    "    #\n",
    "    # TODO: Implement PCA here. ONLY train against your training data, but\n",
    "    # transform both your training + test data, storing the results back into\n",
    "    # data_train, and data_test.\n",
    "    #\n",
    "    # .. your code here ..\n",
    "\n",
    "    from sklearn.decomposition import PCA\n",
    "    \n",
    "    pca = PCA(n_components=2)\n",
    "    pca.fit(X_train)\n",
    "    \n",
    "    data_train = pca.transform(X_train)\n",
    "    data_test = pca.transform(X_test)\n",
    "    \n",
    "\n",
    "else:\n",
    "    # INFO: Isomap is used *before* KNeighbors to simplify your high dimensionality\n",
    "    # image samples down to just 2 components! A lot of information has been is\n",
    "    # lost during the process, as I'm sure you can imagine. But if you have\n",
    "    # non-linear data that can be represented on a 2D manifold, you probably will\n",
    "    # be left with a far superior dataset to use for classification. Plus by\n",
    "    # having the images in 2D space, you can plot them as well as visualize a 2D\n",
    "    # decision surface / boundary. In the wild, you'd probably leave in a lot\n",
    "    # more dimensions, but wouldn't need to plot the boundary; simply checking\n",
    "    # the results would suffice.\n",
    "    #\n",
    "    # Your model should only be trained (fit) against the training data (data_train)\n",
    "    # Once you've done this, you need use the model to transform both data_train\n",
    "    # and data_test from their original high-D image feature space, down to 2D\n",
    "\n",
    "    #\n",
    "    # TODO: Implement Isomap here. ONLY train against your training data, but\n",
    "    # transform both your training + test data, storing the results back into\n",
    "    # data_train, and data_test.\n",
    "    #\n",
    "    # .. your code here ..\n",
    "\n",
    "    from sklearn.manifold import Isomap\n",
    "    \n",
    "    iso = Isomap(n_neighbors=5, n_components=2)\n",
    "    iso.fit(X_train)\n",
    "    \n",
    "    data_train = iso.transform(X_train)\n",
    "    data_test = iso.transform(X_test)\n",
    "\n",
    "\n",
    "#\n",
    "# TODO: Implement KNeighborsClassifier here. You can use any K value from 1\n",
    "# through 20, so play around with it and attempt to get good accuracy.\n",
    "# This is the heart of this assignment: Looking at the 2D points that\n",
    "# represent your images, along with a list of \"answers\" or correct class\n",
    "# labels that those 2d representations should be.\n",
    "#\n",
    "# .. your code here ..\n",
    "\n",
    "from sklearn.neighbors import KNeighborsClassifier\n",
    "\n",
    "knn = KNeighborsClassifier(n_neighbors=12)\n",
    "knn.fit(data_train, label_train)\n",
    "\n",
    "\n",
    "# NOTE: K-NEIGHBORS DOES NOT CARE WHAT THE ANSWERS SHOULD BE! In fact, it\n",
    "# just tosses that information away. All KNeighbors cares about storing is\n",
    "# your training data (data_train) so that later on when you attempt to\n",
    "# predict or score samples, it can derive a class for them based on the\n",
    "# labeling of the sample's near neighbors.\n",
    "\n",
    "\n",
    "#\n",
    "# TODO: Calculate + Print the accuracy of the testing set (data_test and\n",
    "# label_test).\n",
    "#\n",
    "# .. your code here ..\n",
    "\n",
    "accuracy_score = knn.score(data_test, label_test)\n",
    "print(accuracy_score)\n",
    "\n",
    "\n",
    "\n",
    "# Chart the combined decision boundary, the training data as 2D plots, and\n",
    "# the testing data as small images so we can visually validate performance.\n",
    "Plot2DBoundary(knn, data_train, label_train, data_test, label_test)\n",
    "\n",
    "\n"
   ]
  }
 ],
 "metadata": {
  "anaconda-cloud": {},
  "kernelspec": {
   "display_name": "Python 2",
   "language": "python",
   "name": "python2"
  },
  "language_info": {
   "codemirror_mode": {
    "name": "ipython",
    "version": 2
   },
   "file_extension": ".py",
   "mimetype": "text/x-python",
   "name": "python",
   "nbconvert_exporter": "python",
   "pygments_lexer": "ipython2",
   "version": "2.7.11"
  },
  "toc": {
   "colors": {
    "hover_highlight": "#DAA520",
    "running_highlight": "#FF0000",
    "selected_highlight": "#FFD700"
   },
   "moveMenuLeft": true,
   "nav_menu": {
    "height": "58px",
    "width": "252px"
   },
   "navigate_menu": true,
   "number_sections": true,
   "sideBar": true,
   "threshold": 4,
   "toc_cell": false,
   "toc_section_display": "block",
   "toc_window_display": false,
   "widenNotebook": false
  }
 },
 "nbformat": 4,
 "nbformat_minor": 2
}
