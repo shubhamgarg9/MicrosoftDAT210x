{
 "cells": [
  {
   "cell_type": "markdown",
   "metadata": {},
   "source": [
    "# DAT210x - Programming with Python for DS"
   ]
  },
  {
   "cell_type": "markdown",
   "metadata": {},
   "source": [
    "## Module5- Lab7"
   ]
  },
  {
   "cell_type": "code",
   "execution_count": 14,
   "metadata": {
    "collapsed": true
   },
   "outputs": [],
   "source": [
    "import random, math\n",
    "import pandas as pd\n",
    "import numpy as np\n",
    "import scipy.io\n",
    "import numpy as np\n",
    "\n",
    "from mpl_toolkits.mplot3d import Axes3D\n",
    "import matplotlib.pyplot as plt\n",
    "import matplotlib\n",
    "\n",
    "matplotlib.style.use('ggplot') # Look Pretty\n",
    "\n",
    "\n",
    "# Leave this alone until indicated:\n",
    "Test_PCA = False"
   ]
  },
  {
   "cell_type": "markdown",
   "metadata": {},
   "source": [
    "### A Convenience Function"
   ]
  },
  {
   "cell_type": "markdown",
   "metadata": {},
   "source": [
    "This method is for your visualization convenience only. You aren't expected to know how to put this together yourself, although you should be able to follow the code by now:"
   ]
  },
  {
   "cell_type": "code",
   "execution_count": 15,
   "metadata": {
    "collapsed": true
   },
   "outputs": [],
   "source": [
    "def plotDecisionBoundary(model, X, y):\n",
    "    print(\"Plotting...\")\n",
    "\n",
    "    fig = plt.figure()\n",
    "    ax = fig.add_subplot(111)\n",
    "\n",
    "    padding = 0.1\n",
    "    resolution = 0.1\n",
    "\n",
    "    #(2 for benign, 4 for malignant)\n",
    "    colors = {2:'royalblue', 4:'lightsalmon'} \n",
    "\n",
    "\n",
    "    # Calculate the boundaris\n",
    "    x_min, x_max = X[:, 0].min(), X[:, 0].max()\n",
    "    y_min, y_max = X[:, 1].min(), X[:, 1].max()\n",
    "    x_range = x_max - x_min\n",
    "    y_range = y_max - y_min\n",
    "    x_min -= x_range * padding\n",
    "    y_min -= y_range * padding\n",
    "    x_max += x_range * padding\n",
    "    y_max += y_range * padding\n",
    "\n",
    "    # Create a 2D Grid Matrix. The values stored in the matrix\n",
    "    # are the predictions of the class at at said location\n",
    "    xx, yy = np.meshgrid(np.arange(x_min, x_max, resolution),\n",
    "                         np.arange(y_min, y_max, resolution))\n",
    "\n",
    "    # What class does the classifier say?\n",
    "    Z = model.predict(np.c_[xx.ravel(), yy.ravel()])\n",
    "    Z = Z.reshape(xx.shape)\n",
    "\n",
    "    # Plot the contour map\n",
    "    plt.contourf(xx, yy, Z, cmap=plt.cm.seismic)\n",
    "    plt.axis('tight')\n",
    "\n",
    "    # Plot your testing points as well...\n",
    "    for label in np.unique(y):\n",
    "        indices = np.where(y == label)\n",
    "        plt.scatter(X[indices, 0], X[indices, 1], c=colors[label], alpha=0.8)\n",
    "\n",
    "    p = model.get_params()\n",
    "    plt.title('K = ' + str(p['n_neighbors']))\n",
    "    plt.show()"
   ]
  },
  {
   "cell_type": "markdown",
   "metadata": {
    "collapsed": true
   },
   "source": [
    "### The Assignment"
   ]
  },
  {
   "cell_type": "markdown",
   "metadata": {
    "collapsed": true
   },
   "source": [
    "Load in the dataset, identify nans, and set proper headers. Be sure to verify the rows line up by looking at the file in a text editor."
   ]
  },
  {
   "cell_type": "code",
   "execution_count": 16,
   "metadata": {},
   "outputs": [
    {
     "data": {
      "text/plain": [
       "array([2, 4])"
      ]
     },
     "execution_count": 16,
     "metadata": {},
     "output_type": "execute_result"
    }
   ],
   "source": [
    "# .. your code here ..\n",
    "X = pd.read_csv('/home/shubham/projects/DAT210x/Module5/Datasets/breast-cancer-wisconsin.data',names=['sample', 'thickness', 'size', 'shape', 'adhesion', 'epithelial', 'nuclei', 'chromatin', 'nucleoli', 'mitoses', 'status'])\n",
    "X.head()\n",
    "X.status.unique()"
   ]
  },
  {
   "cell_type": "markdown",
   "metadata": {},
   "source": [
    "Copy out the status column into a slice, then drop it from the main dataframe. Always verify you properly executed the drop by double checking (printing out the resulting operating)! Many people forget to set the right axis here.\n",
    "\n",
    "If you goofed up on loading the dataset and notice you have a `sample` column, this would be a good place to drop that too if you haven't already."
   ]
  },
  {
   "cell_type": "code",
   "execution_count": 17,
   "metadata": {},
   "outputs": [
    {
     "data": {
      "text/html": [
       "<div>\n",
       "<style>\n",
       "    .dataframe thead tr:only-child th {\n",
       "        text-align: right;\n",
       "    }\n",
       "\n",
       "    .dataframe thead th {\n",
       "        text-align: left;\n",
       "    }\n",
       "\n",
       "    .dataframe tbody tr th {\n",
       "        vertical-align: top;\n",
       "    }\n",
       "</style>\n",
       "<table border=\"1\" class=\"dataframe\">\n",
       "  <thead>\n",
       "    <tr style=\"text-align: right;\">\n",
       "      <th></th>\n",
       "      <th>thickness</th>\n",
       "      <th>size</th>\n",
       "      <th>shape</th>\n",
       "      <th>adhesion</th>\n",
       "      <th>epithelial</th>\n",
       "      <th>nuclei</th>\n",
       "      <th>chromatin</th>\n",
       "      <th>nucleoli</th>\n",
       "      <th>mitoses</th>\n",
       "    </tr>\n",
       "  </thead>\n",
       "  <tbody>\n",
       "    <tr>\n",
       "      <th>0</th>\n",
       "      <td>5</td>\n",
       "      <td>1</td>\n",
       "      <td>1</td>\n",
       "      <td>1</td>\n",
       "      <td>2</td>\n",
       "      <td>1</td>\n",
       "      <td>3</td>\n",
       "      <td>1</td>\n",
       "      <td>1</td>\n",
       "    </tr>\n",
       "    <tr>\n",
       "      <th>1</th>\n",
       "      <td>5</td>\n",
       "      <td>4</td>\n",
       "      <td>4</td>\n",
       "      <td>5</td>\n",
       "      <td>7</td>\n",
       "      <td>10</td>\n",
       "      <td>3</td>\n",
       "      <td>2</td>\n",
       "      <td>1</td>\n",
       "    </tr>\n",
       "    <tr>\n",
       "      <th>2</th>\n",
       "      <td>3</td>\n",
       "      <td>1</td>\n",
       "      <td>1</td>\n",
       "      <td>1</td>\n",
       "      <td>2</td>\n",
       "      <td>2</td>\n",
       "      <td>3</td>\n",
       "      <td>1</td>\n",
       "      <td>1</td>\n",
       "    </tr>\n",
       "    <tr>\n",
       "      <th>3</th>\n",
       "      <td>6</td>\n",
       "      <td>8</td>\n",
       "      <td>8</td>\n",
       "      <td>1</td>\n",
       "      <td>3</td>\n",
       "      <td>4</td>\n",
       "      <td>3</td>\n",
       "      <td>7</td>\n",
       "      <td>1</td>\n",
       "    </tr>\n",
       "    <tr>\n",
       "      <th>4</th>\n",
       "      <td>4</td>\n",
       "      <td>1</td>\n",
       "      <td>1</td>\n",
       "      <td>3</td>\n",
       "      <td>2</td>\n",
       "      <td>1</td>\n",
       "      <td>3</td>\n",
       "      <td>1</td>\n",
       "      <td>1</td>\n",
       "    </tr>\n",
       "  </tbody>\n",
       "</table>\n",
       "</div>"
      ],
      "text/plain": [
       "   thickness  size  shape  adhesion  epithelial nuclei  chromatin  nucleoli  \\\n",
       "0          5     1      1         1           2      1          3         1   \n",
       "1          5     4      4         5           7     10          3         2   \n",
       "2          3     1      1         1           2      2          3         1   \n",
       "3          6     8      8         1           3      4          3         7   \n",
       "4          4     1      1         3           2      1          3         1   \n",
       "\n",
       "   mitoses  \n",
       "0        1  \n",
       "1        1  \n",
       "2        1  \n",
       "3        1  \n",
       "4        1  "
      ]
     },
     "metadata": {},
     "output_type": "display_data"
    }
   ],
   "source": [
    "# .. your code here ..\n",
    "y = X['status'].copy()\n",
    "X = X.drop(['status','sample'],axis=1)\n",
    "display(X.head())\n",
    "y.head()\n",
    "X.dtypes\n",
    "X.nuclei = pd.to_numeric(X.nuclei,errors='coerce')"
   ]
  },
  {
   "cell_type": "markdown",
   "metadata": {},
   "source": [
    "With the labels safely extracted from the dataset, replace any nan values with the mean feature / column value:"
   ]
  },
  {
   "cell_type": "code",
   "execution_count": 18,
   "metadata": {},
   "outputs": [
    {
     "data": {
      "text/plain": [
       "thickness       int64\n",
       "size            int64\n",
       "shape           int64\n",
       "adhesion        int64\n",
       "epithelial      int64\n",
       "nuclei        float64\n",
       "chromatin       int64\n",
       "nucleoli        int64\n",
       "mitoses         int64\n",
       "dtype: object"
      ]
     },
     "metadata": {},
     "output_type": "display_data"
    },
    {
     "data": {
      "text/plain": [
       "thickness     0\n",
       "size          0\n",
       "shape         0\n",
       "adhesion      0\n",
       "epithelial    0\n",
       "nuclei        0\n",
       "chromatin     0\n",
       "nucleoli      0\n",
       "mitoses       0\n",
       "dtype: int64"
      ]
     },
     "execution_count": 18,
     "metadata": {},
     "output_type": "execute_result"
    }
   ],
   "source": [
    "# .. your code here ..\n",
    "display(X.dtypes)\n",
    "X = X.fillna(X.mean())\n",
    "X.isnull().sum()"
   ]
  },
  {
   "cell_type": "markdown",
   "metadata": {},
   "source": [
    "Do train_test_split. Use the same variable names as on the EdX platform in the reading material, but set the random_state=7 for reproducibility, and keep the test_size at 0.5 (50%)."
   ]
  },
  {
   "cell_type": "code",
   "execution_count": 19,
   "metadata": {
    "collapsed": true
   },
   "outputs": [],
   "source": [
    "# .. your code here ..\n",
    "from sklearn.model_selection import train_test_split\n",
    "X_train, X_test, y_train, y_test = train_test_split(X, y, test_size=0.5, random_state=7)"
   ]
  },
  {
   "cell_type": "markdown",
   "metadata": {},
   "source": [
    "Experiment with the basic SKLearn preprocessing scalers. We know that the features consist of different units mixed in together, so it might be reasonable to assume feature scaling is necessary. Print out a description of the dataset, post transformation. Recall: when you do pre-processing, which portion of the dataset is your model trained upon? Also which portion(s) of your dataset actually get transformed?"
   ]
  },
  {
   "cell_type": "code",
   "execution_count": 20,
   "metadata": {
    "collapsed": true
   },
   "outputs": [],
   "source": [
    "# .. your code here ..\n",
    "from sklearn.preprocessing import Normalizer, MaxAbsScaler, MinMaxScaler, StandardScaler, RobustScaler\n",
    "\n",
    "norm = Normalizer().fit(X_train)\n",
    "max_abs = MaxAbsScaler().fit(X_train)\n",
    "min_max = MinMaxScaler().fit(X_train)\n",
    "stand = StandardScaler().fit(X_train)\n",
    "robust = RobustScaler().fit(X_train)\n",
    "\n",
    "X_train = norm.transform(X_train)\n",
    "X_test = norm.transform(X_test)\n",
    "\n",
    "#X_train = max_abs.transform(X_train)\n",
    "#X_test = max_abs.transform(X_test)\n",
    "\n",
    "#X_train = min_max.transform(X_train)\n",
    "#X_test = min_max.transform(X_test)\n",
    "\n",
    "#X_train = stand.transform(X_train)\n",
    "#X_test = stand.transform(X_test)\n",
    "\n",
    "#X_train = robust.transform(X_train)\n",
    "#X_test = robust.transform(X_test)"
   ]
  },
  {
   "cell_type": "markdown",
   "metadata": {},
   "source": [
    "### Dimensionality Reduction"
   ]
  },
  {
   "cell_type": "markdown",
   "metadata": {},
   "source": [
    "PCA and Isomap are your new best friends"
   ]
  },
  {
   "cell_type": "code",
   "execution_count": 21,
   "metadata": {},
   "outputs": [
    {
     "name": "stdout",
     "output_type": "stream",
     "text": [
      "Computing 2D Isomap Manifold\n"
     ]
    }
   ],
   "source": [
    "model = None\n",
    "\n",
    "if Test_PCA:\n",
    "    print('Computing 2D Principle Components')\n",
    "    # TODO: Implement PCA here. Save your model into the variable 'model'.\n",
    "    # You should reduce down to two dimensions.\n",
    "    from sklearn.decomposition import PCA\n",
    "    model = PCA(n_components=2)\n",
    "    model.fit(X_train)\n",
    "    # .. your code here ..\n",
    "\n",
    "else:\n",
    "    print('Computing 2D Isomap Manifold')\n",
    "    # TODO: Implement Isomap here. Save your model into the variable 'model'\n",
    "    # Experiment with K values from 5-10.\n",
    "    # You should reduce down to two dimensions.\n",
    "    from sklearn.manifold import Isomap\n",
    "    model = Isomap(n_neighbors=5, n_components=2)\n",
    "    model.fit(X_train)\n",
    "    # .. your code here .."
   ]
  },
  {
   "cell_type": "markdown",
   "metadata": {},
   "source": [
    "Train your model against data_train, then transform both `data_train` and `data_test` using your model. You can save the results right back into the variables themselves."
   ]
  },
  {
   "cell_type": "code",
   "execution_count": 22,
   "metadata": {
    "collapsed": true
   },
   "outputs": [],
   "source": [
    "# .. your code here ..\n",
    "X_train = model.transform(X_train)\n",
    "X_test = model.transform(X_test)"
   ]
  },
  {
   "cell_type": "markdown",
   "metadata": {},
   "source": [
    "Implement and train `KNeighborsClassifier` on your projected 2D training data here. You can name your variable `knmodel`. You can use any `K` value from 1 - 15, so play around with it and see what results you can come up. Your goal is to find a good balance where you aren't too specific (low-K), nor are you too general (high-K). You should also experiment with how changing the weights parameter affects the results."
   ]
  },
  {
   "cell_type": "code",
   "execution_count": 23,
   "metadata": {},
   "outputs": [
    {
     "data": {
      "text/plain": [
       "KNeighborsClassifier(algorithm='auto', leaf_size=30, metric='minkowski',\n",
       "           metric_params=None, n_jobs=1, n_neighbors=15, p=2,\n",
       "           weights='distance')"
      ]
     },
     "execution_count": 23,
     "metadata": {},
     "output_type": "execute_result"
    }
   ],
   "source": [
    "# .. your code here ..\n",
    "from sklearn.neighbors import KNeighborsClassifier\n",
    "knmodel = KNeighborsClassifier(n_neighbors=15, weights='distance')\n",
    "knmodel.fit(X_train, y_train)"
   ]
  },
  {
   "cell_type": "markdown",
   "metadata": {},
   "source": [
    "Be sure to always keep the domain of the problem in mind! It's WAY more important to errantly classify a benign tumor as malignant, and have it removed, than to incorrectly leave a malignant tumor, believing it to be benign, and then having the patient progress in cancer. Since the UDF weights don't give you any class information, the only way to introduce this data into SKLearn's KNN Classifier is by \"baking\" it into your data. For example, randomly reducing the ratio of benign samples compared to malignant samples from the training set."
   ]
  },
  {
   "cell_type": "markdown",
   "metadata": {
    "collapsed": true
   },
   "source": [
    "Calculate and display the accuracy of the testing set:"
   ]
  },
  {
   "cell_type": "code",
   "execution_count": 25,
   "metadata": {},
   "outputs": [
    {
     "data": {
      "text/plain": [
       "array([[-0.34294879, -0.33651901],\n",
       "       [-0.44288132,  0.44728171],\n",
       "       [ 0.73061113,  0.04291747],\n",
       "       [-0.0721933 ,  0.45547923],\n",
       "       [-0.60643125, -0.01059377],\n",
       "       [ 0.91212583,  0.00196408],\n",
       "       [-0.4702878 , -0.1951274 ],\n",
       "       [ 0.9788639 ,  0.10882734],\n",
       "       [ 0.94105662,  0.07482395],\n",
       "       [-0.3672742 , -0.54664435],\n",
       "       [ 0.26826275, -0.28967448],\n",
       "       [ 0.69168131,  0.25472747],\n",
       "       [-0.23199196, -0.66251624],\n",
       "       [ 0.04189362, -0.48383667],\n",
       "       [-0.48637825, -0.35862486],\n",
       "       [-0.28532457, -0.41731046],\n",
       "       [ 0.235166  ,  0.41739331],\n",
       "       [ 0.50943101,  0.1122849 ],\n",
       "       [-0.33996884, -0.46159816],\n",
       "       [-0.43186015,  0.90230785],\n",
       "       [ 0.80057681, -0.18792372],\n",
       "       [ 0.82890687, -0.03036634],\n",
       "       [ 0.60893034, -0.16494313],\n",
       "       [-0.32921286, -0.21395833],\n",
       "       [-0.14175483,  0.4476473 ],\n",
       "       [ 0.80396207, -0.11791407],\n",
       "       [ 0.3732203 , -0.15111162],\n",
       "       [-0.46834958, -0.37430585],\n",
       "       [ 0.45254112,  0.1649715 ],\n",
       "       [-0.41846906, -0.38182277],\n",
       "       [ 0.74334188, -0.14606437],\n",
       "       [-0.46280114, -0.32634761],\n",
       "       [-0.63180923,  1.37332279],\n",
       "       [ 0.60609314, -0.07915272],\n",
       "       [ 0.1385284 , -0.3486956 ],\n",
       "       [ 0.47538266,  0.22311689],\n",
       "       [ 0.64861411, -0.15258896],\n",
       "       [ 0.05915305,  0.20575419],\n",
       "       [-0.37444   ,  0.6584798 ],\n",
       "       [-0.63180923,  1.37332279],\n",
       "       [-0.44915275, -0.34141989],\n",
       "       [-0.46415749, -0.30050602],\n",
       "       [-0.76056231, -0.20423647],\n",
       "       [-0.08116749, -0.06766475],\n",
       "       [-0.69282822, -0.22634453],\n",
       "       [ 0.07773244,  0.11951843],\n",
       "       [-0.56169625, -0.14662028],\n",
       "       [-0.63180923,  1.37332279],\n",
       "       [-0.57547831,  0.09195759],\n",
       "       [-0.22215894, -0.74779391],\n",
       "       [ 0.85838058,  0.18416411],\n",
       "       [-0.43186015,  0.90230785],\n",
       "       [ 0.76882126,  0.14767973],\n",
       "       [ 0.15415621, -0.51859013],\n",
       "       [-0.60513078,  0.01053236],\n",
       "       [ 0.78292547,  0.23505469],\n",
       "       [ 0.19302255, -0.05365584],\n",
       "       [-0.4768699 , -0.06023153],\n",
       "       [-0.63180923,  1.37332279],\n",
       "       [-0.28887932, -0.37159833],\n",
       "       [-0.60941993,  0.2889043 ],\n",
       "       [-0.60782384, -0.12629734],\n",
       "       [ 0.92162246,  0.08081787],\n",
       "       [-0.64681983, -0.12141396],\n",
       "       [-0.67393029, -0.16837871],\n",
       "       [-0.4768699 , -0.06023153],\n",
       "       [-0.63180923,  1.37332279],\n",
       "       [-0.63180923,  1.37332279],\n",
       "       [ 0.67689211,  0.33592991],\n",
       "       [-0.30666674,  0.01769087],\n",
       "       [ 0.80057681, -0.18792372],\n",
       "       [-0.4835931 ,  0.12650163],\n",
       "       [-0.4835931 ,  0.12650163],\n",
       "       [-0.46310485, -0.53504587],\n",
       "       [ 0.64861411, -0.15258896],\n",
       "       [ 0.26826275, -0.28967448],\n",
       "       [-0.25926111, -0.31149771],\n",
       "       [-0.45804181, -0.32163561],\n",
       "       [-0.19291476, -0.13650735],\n",
       "       [-0.4768699 , -0.06023153],\n",
       "       [-0.62276678,  0.23194558],\n",
       "       [ 0.85518691,  0.12796456],\n",
       "       [ 0.92679984,  0.017376  ],\n",
       "       [ 0.47538266,  0.22311689],\n",
       "       [ 0.67982382,  0.23568344],\n",
       "       [-0.4768699 , -0.06023153],\n",
       "       [-0.21279793,  0.18976094],\n",
       "       [-0.50800102, -0.22520966],\n",
       "       [ 0.26826275, -0.28967448],\n",
       "       [ 0.88420682,  0.1113933 ],\n",
       "       [-0.55459178, -0.19603993],\n",
       "       [ 0.91212583,  0.00196408],\n",
       "       [ 0.64861411, -0.15258896],\n",
       "       [-0.65068157, -0.12492342],\n",
       "       [-0.61449727, -0.31091802],\n",
       "       [ 1.02472439,  0.08581074],\n",
       "       [ 0.67982382,  0.23568344],\n",
       "       [-0.23536469, -0.5827543 ],\n",
       "       [-0.38122281,  0.07328382],\n",
       "       [-0.12204662,  0.16074793],\n",
       "       [-0.02729632, -0.63048148],\n",
       "       [-0.53617813,  0.19478266],\n",
       "       [ 0.67818935,  0.05551556],\n",
       "       [ 0.36084319, -0.44139379],\n",
       "       [ 0.19194647, -0.36303411],\n",
       "       [ 0.83834677,  0.00718527],\n",
       "       [ 0.71162841,  0.16640359],\n",
       "       [-0.63180923,  1.37332279],\n",
       "       [ 0.26826275, -0.28967448],\n",
       "       [ 0.91212583,  0.00196408],\n",
       "       [-0.57513295, -0.11543232],\n",
       "       [-0.19167726, -0.75939292],\n",
       "       [ 0.3901783 , -0.27634826],\n",
       "       [ 0.91212583,  0.00196408],\n",
       "       [-0.54124182, -0.07179588],\n",
       "       [ 0.80396207, -0.11791407],\n",
       "       [ 0.26826275, -0.28967448],\n",
       "       [ 0.97170058, -0.01986981],\n",
       "       [-0.64953132, -0.13598608],\n",
       "       [-0.54700377, -0.49942321],\n",
       "       [-0.20896429, -0.48579144],\n",
       "       [-0.4835931 ,  0.12650163],\n",
       "       [ 0.47538266,  0.22311689],\n",
       "       [-0.39633763, -0.39729178],\n",
       "       [-0.4768699 , -0.06023153],\n",
       "       [-0.61690192,  0.94256187],\n",
       "       [-0.63180923,  1.37332279],\n",
       "       [ 0.64861411, -0.15258896],\n",
       "       [-0.4768699 , -0.06023153],\n",
       "       [-0.6021022 , -0.10742169],\n",
       "       [-0.17145923, -0.26914483],\n",
       "       [-0.63180923,  1.37332279],\n",
       "       [ 0.62947411, -0.42799662],\n",
       "       [ 0.85838058,  0.18416411],\n",
       "       [-0.24598035,  0.02539791],\n",
       "       [-0.4768699 , -0.06023153],\n",
       "       [ 0.31609842, -0.29424066],\n",
       "       [-0.72822605, -0.21851651],\n",
       "       [ 0.92162246,  0.08081787],\n",
       "       [ 0.80057681, -0.18792372],\n",
       "       [-0.6341897 , -0.14122461],\n",
       "       [-0.80382232, -0.21477957],\n",
       "       [-0.75170035,  0.30702705],\n",
       "       [ 0.85042155,  0.04666941],\n",
       "       [ 0.51538672,  0.13882145],\n",
       "       [ 0.43873411, -0.35869019],\n",
       "       [ 0.15125128, -0.34967739],\n",
       "       [-0.41707345, -0.33772476],\n",
       "       [-0.22361005, -0.2563344 ],\n",
       "       [-0.3108953 , -0.16803729],\n",
       "       [ 0.85042155,  0.04666941],\n",
       "       [ 0.64861411, -0.15258896],\n",
       "       [ 0.80100322, -0.30295673],\n",
       "       [ 0.80396207, -0.11791407],\n",
       "       [-0.52531149, -0.33441331],\n",
       "       [-0.38374299, -0.52657356],\n",
       "       [-0.74527728,  0.34705283],\n",
       "       [ 0.80396207, -0.11791407],\n",
       "       [-0.08096057, -0.31467618],\n",
       "       [ 0.26826275, -0.28967448],\n",
       "       [-0.20277   , -0.22954883],\n",
       "       [ 0.67982382,  0.23568344],\n",
       "       [-0.72619423, -0.15111647],\n",
       "       [-0.4768699 , -0.06023153],\n",
       "       [ 0.73760199,  0.12200543],\n",
       "       [-0.4768699 , -0.06023153],\n",
       "       [-0.27968118, -0.54132424],\n",
       "       [ 0.54408263,  0.25247523],\n",
       "       [ 0.15963543, -0.16654318],\n",
       "       [-0.41946353, -0.07861319],\n",
       "       [ 0.47929556, -0.41479406],\n",
       "       [-0.18086387, -0.26113207],\n",
       "       [-0.3191753 , -0.42916563],\n",
       "       [ 0.15963543, -0.16654318],\n",
       "       [-0.25512542, -0.22059113],\n",
       "       [-0.35069296, -0.55530426],\n",
       "       [-0.80570053, -0.30178466],\n",
       "       [ 0.80057681, -0.18792372],\n",
       "       [-0.46570295, -0.21381789],\n",
       "       [ 0.94105662,  0.07482395],\n",
       "       [ 0.41477849,  0.12746894],\n",
       "       [-0.44821355,  0.430587  ],\n",
       "       [-0.66539174, -0.43008982],\n",
       "       [ 0.32573728, -0.32759987],\n",
       "       [ 0.73164917,  0.22135396],\n",
       "       [ 0.20056031,  0.55929128],\n",
       "       [-0.4768699 , -0.06023153],\n",
       "       [ 0.85042155,  0.04666941],\n",
       "       [ 0.85042155,  0.04666941],\n",
       "       [-0.28560186, -0.20616416],\n",
       "       [ 0.17445117,  0.85329919],\n",
       "       [-0.61031588, -0.09462433],\n",
       "       [ 0.91212583,  0.00196408],\n",
       "       [ 0.50762252, -0.15841518],\n",
       "       [ 0.64861411, -0.15258896],\n",
       "       [-0.52841444, -0.30572553],\n",
       "       [-0.34725971, -0.38054742],\n",
       "       [ 0.85042155,  0.04666941],\n",
       "       [ 0.85042155,  0.04666941],\n",
       "       [-0.27853497, -0.30128226],\n",
       "       [-0.3864487 , -0.45259215],\n",
       "       [ 0.78004641,  0.18728945],\n",
       "       [-0.63180923,  1.37332279],\n",
       "       [ 0.85042155,  0.04666941],\n",
       "       [ 0.67982382,  0.23568344],\n",
       "       [ 0.67982382,  0.23568344],\n",
       "       [-0.10518963, -0.05386858],\n",
       "       [ 0.41477849,  0.12746894],\n",
       "       [-0.63180923,  1.37332279],\n",
       "       [-0.35810141, -0.19006622],\n",
       "       [ 0.60125674,  0.18342946],\n",
       "       [ 0.91212583,  0.00196408],\n",
       "       [ 0.67817372, -0.05251268],\n",
       "       [ 0.96387778,  0.18279709],\n",
       "       [-0.4768699 , -0.06023153],\n",
       "       [ 0.26826275, -0.28967448],\n",
       "       [-0.35341117, -0.37865335],\n",
       "       [-0.64122674, -0.25661755],\n",
       "       [-0.4835931 ,  0.12650163],\n",
       "       [ 0.54408263,  0.25247523],\n",
       "       [-0.32258319, -0.31175371],\n",
       "       [ 0.92162246,  0.08081787],\n",
       "       [ 0.44396602, -0.00354904],\n",
       "       [ 0.47538266,  0.22311689],\n",
       "       [-0.2924505 ,  0.42673219],\n",
       "       [ 1.06634979,  0.03119439],\n",
       "       [ 0.69836085,  0.25421732],\n",
       "       [-0.51242496, -0.21734182],\n",
       "       [ 0.15125128, -0.34967739],\n",
       "       [-0.63809462,  0.16314019],\n",
       "       [-0.41961135, -0.12066247],\n",
       "       [-0.17236225, -0.62111117],\n",
       "       [-0.57433099,  0.11413622],\n",
       "       [-0.63865459, -0.28722913],\n",
       "       [ 0.28405089,  0.03925277],\n",
       "       [-0.56910391, -0.42390307],\n",
       "       [ 0.80396207, -0.11791407],\n",
       "       [-0.43186015,  0.90230785],\n",
       "       [ 0.11473438, -0.25180283],\n",
       "       [-0.72405351, -0.27056361],\n",
       "       [-0.03840713, -0.43602098],\n",
       "       [ 0.3442792 , -0.21655414],\n",
       "       [ 0.00732229,  0.01816979],\n",
       "       [ 0.45577616, -0.26610794],\n",
       "       [-0.0827332 , -0.64572416],\n",
       "       [ 0.26826275, -0.28967448],\n",
       "       [-0.34122736, -0.4925902 ],\n",
       "       [ 0.85518691,  0.12796456],\n",
       "       [-0.37310168,  0.98046673],\n",
       "       [ 0.77805448,  0.15657069],\n",
       "       [-0.62569524, -0.12026718],\n",
       "       [-0.4835931 ,  0.12650163],\n",
       "       [ 0.34842865,  0.10636375],\n",
       "       [-0.40814498, -0.25005867],\n",
       "       [-0.35006961, -0.18221469],\n",
       "       [-0.42745234, -0.39442253],\n",
       "       [ 0.91212583,  0.00196408],\n",
       "       [ 0.17650914, -0.17490189],\n",
       "       [-0.51002501, -0.06979595],\n",
       "       [ 0.74572027, -0.29598759],\n",
       "       [ 0.12283463, -0.09478499],\n",
       "       [ 0.5596265 ,  0.68267574],\n",
       "       [-0.62571999, -0.37478371],\n",
       "       [-0.51423805, -0.0330288 ],\n",
       "       [-0.70252358, -0.42581979],\n",
       "       [ 1.00448628,  0.06999589],\n",
       "       [-0.51306875, -0.11002486],\n",
       "       [-0.45312993, -0.46274976],\n",
       "       [-0.4835931 ,  0.12650163],\n",
       "       [-0.19140494,  0.34671898],\n",
       "       [ 0.36261603, -0.30577355],\n",
       "       [ 0.80396207, -0.11791407],\n",
       "       [-0.167912  , -0.38480994],\n",
       "       [-0.4835931 ,  0.12650163],\n",
       "       [ 0.91212583,  0.00196408],\n",
       "       [ 0.92504592, -0.10113826],\n",
       "       [-0.21950879, -0.25984555],\n",
       "       [-0.59790498, -0.35941261],\n",
       "       [-0.45344948, -0.152172  ],\n",
       "       [-0.00899897, -0.38810579],\n",
       "       [-0.60394962, -0.26756279],\n",
       "       [-0.63180923,  1.37332279],\n",
       "       [-0.82227531, -0.20037452],\n",
       "       [ 0.92162246,  0.08081787],\n",
       "       [ 0.80057681, -0.18792372],\n",
       "       [ 0.12283463, -0.09478499],\n",
       "       [ 0.54408263,  0.25247523],\n",
       "       [-0.31454786, -0.39035418],\n",
       "       [-0.7370009 , -0.18405592],\n",
       "       [-0.50081085,  0.08025085],\n",
       "       [-0.65234553, -0.26343179],\n",
       "       [ 0.93773338, -0.03445859],\n",
       "       [-0.42164316, -0.3991783 ],\n",
       "       [ 0.34946496,  0.09453647],\n",
       "       [-0.4835931 ,  0.12650163],\n",
       "       [-0.55533835,  0.67328861],\n",
       "       [-0.65029881, -0.12825831],\n",
       "       [ 0.12283463, -0.09478499],\n",
       "       [-0.63788651, -0.10563694],\n",
       "       [ 0.47538266,  0.22311689],\n",
       "       [-0.43732512,  0.26870167],\n",
       "       [-0.44839901, -0.39379365],\n",
       "       [-0.43186015,  0.90230785],\n",
       "       [ 0.26826275, -0.28967448],\n",
       "       [ 0.67540053,  0.15731559],\n",
       "       [ 0.20056031,  0.55929128],\n",
       "       [-0.4768699 , -0.06023153],\n",
       "       [-0.42127884, -0.56029232],\n",
       "       [-0.37982872,  0.1848849 ],\n",
       "       [ 0.91212583,  0.00196408],\n",
       "       [ 0.67982382,  0.23568344],\n",
       "       [-0.25251764, -0.41672426],\n",
       "       [-0.34188149, -0.49943294],\n",
       "       [ 0.82507631,  0.05995776],\n",
       "       [ 0.47538266,  0.22311689],\n",
       "       [-0.57229092,  0.01552536],\n",
       "       [ 0.85042155,  0.04666941],\n",
       "       [ 0.92162246,  0.08081787],\n",
       "       [ 0.54973825, -0.08090326],\n",
       "       [-0.5215373 , -0.44716207],\n",
       "       [ 0.51538672,  0.13882145],\n",
       "       [ 0.20056031,  0.55929128],\n",
       "       [ 0.96391542,  0.05210873],\n",
       "       [-0.24236731, -0.43816503],\n",
       "       [-0.15757549,  1.01997336],\n",
       "       [ 0.12283463, -0.09478499],\n",
       "       [ 0.56379495,  0.05583735],\n",
       "       [-0.00769582,  0.25876338],\n",
       "       [-0.4835931 ,  0.12650163],\n",
       "       [ 0.26826275, -0.28967448],\n",
       "       [ 0.64861411, -0.15258896],\n",
       "       [-0.0721933 ,  0.45547923],\n",
       "       [ 0.54408263,  0.25247523],\n",
       "       [-0.6299094 , -0.18960995],\n",
       "       [-0.52443243, -0.54240262],\n",
       "       [-0.19481297, -0.23868585],\n",
       "       [-0.67293789, -0.16991759],\n",
       "       [ 0.51688822, -0.00652388],\n",
       "       [-0.24846022, -0.61238685],\n",
       "       [-0.4768699 , -0.06023153],\n",
       "       [ 0.76744302,  0.16091264],\n",
       "       [-0.33051254, -0.24715224],\n",
       "       [ 0.3461211 , -0.28460525],\n",
       "       [ 0.66509898,  0.35610123],\n",
       "       [-0.28134309, -0.23395243],\n",
       "       [ 0.56273386,  0.07401181],\n",
       "       [-0.09003592, -0.36328062],\n",
       "       [ 0.92162246,  0.08081787],\n",
       "       [ 0.23446825, -0.17360895],\n",
       "       [-0.61710791, -0.06465964]])"
      ]
     },
     "execution_count": 25,
     "metadata": {},
     "output_type": "execute_result"
    }
   ],
   "source": [
    "# .. your code changes above ..\n",
    "X_test"
   ]
  },
  {
   "cell_type": "code",
   "execution_count": 12,
   "metadata": {},
   "outputs": [
    {
     "name": "stdout",
     "output_type": "stream",
     "text": [
      "Plotting...\n"
     ]
    },
    {
     "data": {
      "image/png": "[encoded data removed]",
      "text/plain": [
       "<matplotlib.figure.Figure at 0x7fd830ac6790>"
      ]
     },
     "metadata": {},
     "output_type": "display_data"
    }
   ],
   "source": [
    "plotDecisionBoundary(knmodel, X_test, y_test)"
   ]
  }
 ],
 "metadata": {
  "anaconda-cloud": {},
  "kernelspec": {
   "display_name": "Python 2",
   "language": "python",
   "name": "python2"
  },
  "language_info": {
   "codemirror_mode": {
    "name": "ipython",
    "version": 2
   },
   "file_extension": ".py",
   "mimetype": "text/x-python",
   "name": "python",
   "nbconvert_exporter": "python",
   "pygments_lexer": "ipython2",
   "version": "2.7.11"
  },
  "toc": {
   "colors": {
    "hover_highlight": "#DAA520",
    "running_highlight": "#FF0000",
    "selected_highlight": "#FFD700"
   },
   "moveMenuLeft": true,
   "nav_menu": {
    "height": "58px",
    "width": "252px"
   },
   "navigate_menu": true,
   "number_sections": true,
   "sideBar": true,
   "threshold": 4,
   "toc_cell": false,
   "toc_section_display": "block",
   "toc_window_display": false,
   "widenNotebook": false
  }
 },
 "nbformat": 4,
 "nbformat_minor": 2
}
