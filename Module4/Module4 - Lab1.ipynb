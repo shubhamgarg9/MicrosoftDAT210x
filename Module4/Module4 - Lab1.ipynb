{
 "cells": [
  {
   "cell_type": "markdown",
   "metadata": {},
   "source": [
    "# DAT210x - Programming with Python for DS"
   ]
  },
  {
   "cell_type": "markdown",
   "metadata": {},
   "source": [
    "## Module4- Lab1"
   ]
  },
  {
   "cell_type": "code",
   "execution_count": 1,
   "metadata": {
    "collapsed": true
   },
   "outputs": [],
   "source": [
    "import pandas as pd\n",
    "import matplotlib.pyplot as plt\n",
    "import matplotlib\n",
    "\n",
    "from mpl_toolkits.mplot3d import Axes3D\n",
    "from plyfile import PlyData, PlyElement"
   ]
  },
  {
   "cell_type": "code",
   "execution_count": 2,
   "metadata": {
    "collapsed": true
   },
   "outputs": [],
   "source": [
    "# Look pretty...\n",
    "\n",
    "# matplotlib.style.use('ggplot')\n",
    "plt.style.use('ggplot')"
   ]
  },
  {
   "cell_type": "markdown",
   "metadata": {},
   "source": [
    "Every `100` samples in the dataset, we save `1`. If things run too slow, try increasing this number. If things run too fast, try decreasing it... =)"
   ]
  },
  {
   "cell_type": "code",
   "execution_count": 5,
   "metadata": {
    "collapsed": true
   },
   "outputs": [],
   "source": [
    "reduce_factor = 100"
   ]
  },
  {
   "cell_type": "markdown",
   "metadata": {
    "collapsed": true
   },
   "source": [
    "Load up the scanned armadillo:"
   ]
  },
  {
   "cell_type": "code",
   "execution_count": 7,
   "metadata": {},
   "outputs": [
    {
     "data": {
      "text/html": [
       "<div>\n",
       "<style>\n",
       "    .dataframe thead tr:only-child th {\n",
       "        text-align: right;\n",
       "    }\n",
       "\n",
       "    .dataframe thead th {\n",
       "        text-align: left;\n",
       "    }\n",
       "\n",
       "    .dataframe tbody tr th {\n",
       "        vertical-align: top;\n",
       "    }\n",
       "</style>\n",
       "<table border=\"1\" class=\"dataframe\">\n",
       "  <thead>\n",
       "    <tr style=\"text-align: right;\">\n",
       "      <th></th>\n",
       "      <th>x</th>\n",
       "      <th>y</th>\n",
       "      <th>z</th>\n",
       "    </tr>\n",
       "  </thead>\n",
       "  <tbody>\n",
       "    <tr>\n",
       "      <th>0</th>\n",
       "      <td>27.283239</td>\n",
       "      <td>5.894578</td>\n",
       "      <td>11.788401</td>\n",
       "    </tr>\n",
       "    <tr>\n",
       "      <th>1</th>\n",
       "      <td>-56.153477</td>\n",
       "      <td>-54.866692</td>\n",
       "      <td>66.677132</td>\n",
       "    </tr>\n",
       "    <tr>\n",
       "      <th>2</th>\n",
       "      <td>-55.619434</td>\n",
       "      <td>-55.855236</td>\n",
       "      <td>67.534760</td>\n",
       "    </tr>\n",
       "    <tr>\n",
       "      <th>3</th>\n",
       "      <td>28.784435</td>\n",
       "      <td>23.476126</td>\n",
       "      <td>-31.522230</td>\n",
       "    </tr>\n",
       "    <tr>\n",
       "      <th>4</th>\n",
       "      <td>-54.396542</td>\n",
       "      <td>-49.803776</td>\n",
       "      <td>75.316780</td>\n",
       "    </tr>\n",
       "    <tr>\n",
       "      <th>5</th>\n",
       "      <td>24.620844</td>\n",
       "      <td>-25.837965</td>\n",
       "      <td>51.668484</td>\n",
       "    </tr>\n",
       "    <tr>\n",
       "      <th>6</th>\n",
       "      <td>37.757702</td>\n",
       "      <td>7.324571</td>\n",
       "      <td>65.390671</td>\n",
       "    </tr>\n",
       "    <tr>\n",
       "      <th>7</th>\n",
       "      <td>29.567734</td>\n",
       "      <td>-9.542875</td>\n",
       "      <td>19.078310</td>\n",
       "    </tr>\n",
       "    <tr>\n",
       "      <th>8</th>\n",
       "      <td>27.466061</td>\n",
       "      <td>6.586442</td>\n",
       "      <td>12.646039</td>\n",
       "    </tr>\n",
       "    <tr>\n",
       "      <th>9</th>\n",
       "      <td>10.742151</td>\n",
       "      <td>-41.658661</td>\n",
       "      <td>-23.803507</td>\n",
       "    </tr>\n",
       "    <tr>\n",
       "      <th>10</th>\n",
       "      <td>10.742151</td>\n",
       "      <td>13.786082</td>\n",
       "      <td>-22.945869</td>\n",
       "    </tr>\n",
       "    <tr>\n",
       "      <th>11</th>\n",
       "      <td>-52.507027</td>\n",
       "      <td>-54.568783</td>\n",
       "      <td>75.253479</td>\n",
       "    </tr>\n",
       "    <tr>\n",
       "      <th>12</th>\n",
       "      <td>19.318518</td>\n",
       "      <td>-16.403967</td>\n",
       "      <td>-3.480493</td>\n",
       "    </tr>\n",
       "    <tr>\n",
       "      <th>13</th>\n",
       "      <td>-51.440994</td>\n",
       "      <td>-56.610069</td>\n",
       "      <td>60.673527</td>\n",
       "    </tr>\n",
       "    <tr>\n",
       "      <th>14</th>\n",
       "      <td>10.332949</td>\n",
       "      <td>16.615034</td>\n",
       "      <td>-17.800053</td>\n",
       "    </tr>\n",
       "    <tr>\n",
       "      <th>15</th>\n",
       "      <td>-51.024773</td>\n",
       "      <td>-55.583447</td>\n",
       "      <td>65.798553</td>\n",
       "    </tr>\n",
       "    <tr>\n",
       "      <th>16</th>\n",
       "      <td>-50.578838</td>\n",
       "      <td>-58.428150</td>\n",
       "      <td>58.627174</td>\n",
       "    </tr>\n",
       "    <tr>\n",
       "      <th>17</th>\n",
       "      <td>29.040964</td>\n",
       "      <td>-1.824152</td>\n",
       "      <td>0.639132</td>\n",
       "    </tr>\n",
       "    <tr>\n",
       "      <th>18</th>\n",
       "      <td>10.742151</td>\n",
       "      <td>-24.122696</td>\n",
       "      <td>-13.131104</td>\n",
       "    </tr>\n",
       "    <tr>\n",
       "      <th>19</th>\n",
       "      <td>10.742151</td>\n",
       "      <td>15.328576</td>\n",
       "      <td>-11.936922</td>\n",
       "    </tr>\n",
       "    <tr>\n",
       "      <th>20</th>\n",
       "      <td>-49.830269</td>\n",
       "      <td>-55.354725</td>\n",
       "      <td>68.856529</td>\n",
       "    </tr>\n",
       "    <tr>\n",
       "      <th>21</th>\n",
       "      <td>-49.292393</td>\n",
       "      <td>-56.382549</td>\n",
       "      <td>61.531303</td>\n",
       "    </tr>\n",
       "    <tr>\n",
       "      <th>22</th>\n",
       "      <td>29.181337</td>\n",
       "      <td>-1.395333</td>\n",
       "      <td>0.327618</td>\n",
       "    </tr>\n",
       "    <tr>\n",
       "      <th>23</th>\n",
       "      <td>-49.131191</td>\n",
       "      <td>-59.714600</td>\n",
       "      <td>63.246582</td>\n",
       "    </tr>\n",
       "    <tr>\n",
       "      <th>24</th>\n",
       "      <td>-48.863567</td>\n",
       "      <td>-56.974651</td>\n",
       "      <td>75.253479</td>\n",
       "    </tr>\n",
       "    <tr>\n",
       "      <th>25</th>\n",
       "      <td>16.766327</td>\n",
       "      <td>-41.704235</td>\n",
       "      <td>-47.817322</td>\n",
       "    </tr>\n",
       "    <tr>\n",
       "      <th>26</th>\n",
       "      <td>-48.434750</td>\n",
       "      <td>-57.141689</td>\n",
       "      <td>69.980980</td>\n",
       "    </tr>\n",
       "    <tr>\n",
       "      <th>27</th>\n",
       "      <td>-48.109703</td>\n",
       "      <td>0.319943</td>\n",
       "      <td>59.387215</td>\n",
       "    </tr>\n",
       "    <tr>\n",
       "      <th>28</th>\n",
       "      <td>-48.240238</td>\n",
       "      <td>-56.288548</td>\n",
       "      <td>64.103348</td>\n",
       "    </tr>\n",
       "    <tr>\n",
       "      <th>29</th>\n",
       "      <td>19.004450</td>\n",
       "      <td>-34.843143</td>\n",
       "      <td>9.215492</td>\n",
       "    </tr>\n",
       "    <tr>\n",
       "      <th>...</th>\n",
       "      <td>...</td>\n",
       "      <td>...</td>\n",
       "      <td>...</td>\n",
       "    </tr>\n",
       "    <tr>\n",
       "      <th>1700</th>\n",
       "      <td>6.453974</td>\n",
       "      <td>16.186214</td>\n",
       "      <td>24.502476</td>\n",
       "    </tr>\n",
       "    <tr>\n",
       "      <th>1701</th>\n",
       "      <td>6.453974</td>\n",
       "      <td>-21.549782</td>\n",
       "      <td>36.443222</td>\n",
       "    </tr>\n",
       "    <tr>\n",
       "      <th>1702</th>\n",
       "      <td>24.581287</td>\n",
       "      <td>-28.410875</td>\n",
       "      <td>8.357854</td>\n",
       "    </tr>\n",
       "    <tr>\n",
       "      <th>1703</th>\n",
       "      <td>6.453974</td>\n",
       "      <td>-39.624344</td>\n",
       "      <td>51.668484</td>\n",
       "    </tr>\n",
       "    <tr>\n",
       "      <th>1704</th>\n",
       "      <td>16.541653</td>\n",
       "      <td>27.335482</td>\n",
       "      <td>53.812572</td>\n",
       "    </tr>\n",
       "    <tr>\n",
       "      <th>1705</th>\n",
       "      <td>16.745611</td>\n",
       "      <td>-29.697329</td>\n",
       "      <td>56.324284</td>\n",
       "    </tr>\n",
       "    <tr>\n",
       "      <th>1706</th>\n",
       "      <td>24.588772</td>\n",
       "      <td>21.332029</td>\n",
       "      <td>9.215492</td>\n",
       "    </tr>\n",
       "    <tr>\n",
       "      <th>1707</th>\n",
       "      <td>16.414297</td>\n",
       "      <td>-30.126146</td>\n",
       "      <td>60.244865</td>\n",
       "    </tr>\n",
       "    <tr>\n",
       "      <th>1708</th>\n",
       "      <td>6.453974</td>\n",
       "      <td>4.608120</td>\n",
       "      <td>89.495750</td>\n",
       "    </tr>\n",
       "    <tr>\n",
       "      <th>1709</th>\n",
       "      <td>6.882793</td>\n",
       "      <td>-37.844875</td>\n",
       "      <td>-53.000519</td>\n",
       "    </tr>\n",
       "    <tr>\n",
       "      <th>1710</th>\n",
       "      <td>6.882793</td>\n",
       "      <td>-53.191936</td>\n",
       "      <td>-51.247868</td>\n",
       "    </tr>\n",
       "    <tr>\n",
       "      <th>1711</th>\n",
       "      <td>6.882793</td>\n",
       "      <td>-48.136505</td>\n",
       "      <td>-47.435520</td>\n",
       "    </tr>\n",
       "    <tr>\n",
       "      <th>1712</th>\n",
       "      <td>6.882793</td>\n",
       "      <td>25.191395</td>\n",
       "      <td>-45.009708</td>\n",
       "    </tr>\n",
       "    <tr>\n",
       "      <th>1713</th>\n",
       "      <td>18.460880</td>\n",
       "      <td>23.170061</td>\n",
       "      <td>72.680580</td>\n",
       "    </tr>\n",
       "    <tr>\n",
       "      <th>1714</th>\n",
       "      <td>6.882793</td>\n",
       "      <td>-23.983557</td>\n",
       "      <td>-32.379868</td>\n",
       "    </tr>\n",
       "    <tr>\n",
       "      <th>1715</th>\n",
       "      <td>6.882793</td>\n",
       "      <td>22.618486</td>\n",
       "      <td>-29.200018</td>\n",
       "    </tr>\n",
       "    <tr>\n",
       "      <th>1716</th>\n",
       "      <td>6.882793</td>\n",
       "      <td>31.334888</td>\n",
       "      <td>-25.518778</td>\n",
       "    </tr>\n",
       "    <tr>\n",
       "      <th>1717</th>\n",
       "      <td>9.884521</td>\n",
       "      <td>-11.258150</td>\n",
       "      <td>87.861176</td>\n",
       "    </tr>\n",
       "    <tr>\n",
       "      <th>1718</th>\n",
       "      <td>6.882793</td>\n",
       "      <td>15.999086</td>\n",
       "      <td>-12.225413</td>\n",
       "    </tr>\n",
       "    <tr>\n",
       "      <th>1719</th>\n",
       "      <td>9.884521</td>\n",
       "      <td>7.609853</td>\n",
       "      <td>88.579193</td>\n",
       "    </tr>\n",
       "    <tr>\n",
       "      <th>1720</th>\n",
       "      <td>24.893152</td>\n",
       "      <td>14.381167</td>\n",
       "      <td>23.366495</td>\n",
       "    </tr>\n",
       "    <tr>\n",
       "      <th>1721</th>\n",
       "      <td>6.882793</td>\n",
       "      <td>2.376356</td>\n",
       "      <td>4.927309</td>\n",
       "    </tr>\n",
       "    <tr>\n",
       "      <th>1722</th>\n",
       "      <td>6.882793</td>\n",
       "      <td>-35.141109</td>\n",
       "      <td>10.501949</td>\n",
       "    </tr>\n",
       "    <tr>\n",
       "      <th>1723</th>\n",
       "      <td>16.745611</td>\n",
       "      <td>7.181034</td>\n",
       "      <td>87.360153</td>\n",
       "    </tr>\n",
       "    <tr>\n",
       "      <th>1724</th>\n",
       "      <td>6.882793</td>\n",
       "      <td>-18.494360</td>\n",
       "      <td>25.939396</td>\n",
       "    </tr>\n",
       "    <tr>\n",
       "      <th>1725</th>\n",
       "      <td>24.893152</td>\n",
       "      <td>-17.021006</td>\n",
       "      <td>35.373402</td>\n",
       "    </tr>\n",
       "    <tr>\n",
       "      <th>1726</th>\n",
       "      <td>6.849707</td>\n",
       "      <td>34.196575</td>\n",
       "      <td>45.665031</td>\n",
       "    </tr>\n",
       "    <tr>\n",
       "      <th>1727</th>\n",
       "      <td>34.834377</td>\n",
       "      <td>-2.252964</td>\n",
       "      <td>43.520943</td>\n",
       "    </tr>\n",
       "    <tr>\n",
       "      <th>1728</th>\n",
       "      <td>4.457411</td>\n",
       "      <td>-47.241844</td>\n",
       "      <td>-48.912315</td>\n",
       "    </tr>\n",
       "    <tr>\n",
       "      <th>1729</th>\n",
       "      <td>-29.477325</td>\n",
       "      <td>52.658680</td>\n",
       "      <td>85.095596</td>\n",
       "    </tr>\n",
       "  </tbody>\n",
       "</table>\n",
       "<p>1730 rows × 3 columns</p>\n",
       "</div>"
      ],
      "text/plain": [
       "              x          y          z\n",
       "0     27.283239   5.894578  11.788401\n",
       "1    -56.153477 -54.866692  66.677132\n",
       "2    -55.619434 -55.855236  67.534760\n",
       "3     28.784435  23.476126 -31.522230\n",
       "4    -54.396542 -49.803776  75.316780\n",
       "5     24.620844 -25.837965  51.668484\n",
       "6     37.757702   7.324571  65.390671\n",
       "7     29.567734  -9.542875  19.078310\n",
       "8     27.466061   6.586442  12.646039\n",
       "9     10.742151 -41.658661 -23.803507\n",
       "10    10.742151  13.786082 -22.945869\n",
       "11   -52.507027 -54.568783  75.253479\n",
       "12    19.318518 -16.403967  -3.480493\n",
       "13   -51.440994 -56.610069  60.673527\n",
       "14    10.332949  16.615034 -17.800053\n",
       "15   -51.024773 -55.583447  65.798553\n",
       "16   -50.578838 -58.428150  58.627174\n",
       "17    29.040964  -1.824152   0.639132\n",
       "18    10.742151 -24.122696 -13.131104\n",
       "19    10.742151  15.328576 -11.936922\n",
       "20   -49.830269 -55.354725  68.856529\n",
       "21   -49.292393 -56.382549  61.531303\n",
       "22    29.181337  -1.395333   0.327618\n",
       "23   -49.131191 -59.714600  63.246582\n",
       "24   -48.863567 -56.974651  75.253479\n",
       "25    16.766327 -41.704235 -47.817322\n",
       "26   -48.434750 -57.141689  69.980980\n",
       "27   -48.109703   0.319943  59.387215\n",
       "28   -48.240238 -56.288548  64.103348\n",
       "29    19.004450 -34.843143   9.215492\n",
       "...         ...        ...        ...\n",
       "1700   6.453974  16.186214  24.502476\n",
       "1701   6.453974 -21.549782  36.443222\n",
       "1702  24.581287 -28.410875   8.357854\n",
       "1703   6.453974 -39.624344  51.668484\n",
       "1704  16.541653  27.335482  53.812572\n",
       "1705  16.745611 -29.697329  56.324284\n",
       "1706  24.588772  21.332029   9.215492\n",
       "1707  16.414297 -30.126146  60.244865\n",
       "1708   6.453974   4.608120  89.495750\n",
       "1709   6.882793 -37.844875 -53.000519\n",
       "1710   6.882793 -53.191936 -51.247868\n",
       "1711   6.882793 -48.136505 -47.435520\n",
       "1712   6.882793  25.191395 -45.009708\n",
       "1713  18.460880  23.170061  72.680580\n",
       "1714   6.882793 -23.983557 -32.379868\n",
       "1715   6.882793  22.618486 -29.200018\n",
       "1716   6.882793  31.334888 -25.518778\n",
       "1717   9.884521 -11.258150  87.861176\n",
       "1718   6.882793  15.999086 -12.225413\n",
       "1719   9.884521   7.609853  88.579193\n",
       "1720  24.893152  14.381167  23.366495\n",
       "1721   6.882793   2.376356   4.927309\n",
       "1722   6.882793 -35.141109  10.501949\n",
       "1723  16.745611   7.181034  87.360153\n",
       "1724   6.882793 -18.494360  25.939396\n",
       "1725  24.893152 -17.021006  35.373402\n",
       "1726   6.849707  34.196575  45.665031\n",
       "1727  34.834377  -2.252964  43.520943\n",
       "1728   4.457411 -47.241844 -48.912315\n",
       "1729 -29.477325  52.658680  85.095596\n",
       "\n",
       "[1730 rows x 3 columns]"
      ]
     },
     "execution_count": 7,
     "metadata": {},
     "output_type": "execute_result"
    }
   ],
   "source": [
    "plyfile = PlyData.read('Datasets/stanford_armadillo.ply')\n",
    "\n",
    "armadillo = pd.DataFrame({\n",
    "  'x':plyfile['vertex']['z'][::reduce_factor],\n",
    "  'y':plyfile['vertex']['x'][::reduce_factor],\n",
    "  'z':plyfile['vertex']['y'][::reduce_factor]\n",
    "})\n",
    "armadillo"
   ]
  },
  {
   "cell_type": "markdown",
   "metadata": {},
   "source": [
    "### PCA"
   ]
  },
  {
   "cell_type": "markdown",
   "metadata": {},
   "source": [
    "In the method below, write code to import the libraries required for PCA.\n",
    "\n",
    "Then, train a PCA model on the passed in `armadillo` dataframe parameter. Lastly, project the armadillo down to the two principal components, by dropping one dimension.\n",
    "\n",
    "**NOTE-1**: Be sure to RETURN your projected armadillo rather than `None`! This projection will be stored in a NumPy NDArray rather than a Pandas dataframe. This is something Pandas does for you automatically =).\n",
    "\n",
    "**NOTE-2**: Regarding the `svd_solver` parameter, simply pass that into your PCA model constructor as-is, e.g. `svd_solver=svd_solver`.\n",
    "\n",
    "For additional details, please read through [Decomposition - PCA](http://scikit-learn.org/stable/modules/generated/sklearn.decomposition.PCA.html)."
   ]
  },
  {
   "cell_type": "code",
   "execution_count": 12,
   "metadata": {
    "collapsed": true
   },
   "outputs": [],
   "source": [
    "def do_PCA(armadillo, svd_solver):\n",
    "    # .. your code here ..\n",
    "    from sklearn.decomposition import PCA\n",
    "    pca = PCA(n_components=2, svd_solver=svd_solver)\n",
    "    pca.fit(armadillo)\n",
    "    T = pca.transform(armadillo)\n",
    "    return T"
   ]
  },
  {
   "cell_type": "markdown",
   "metadata": {},
   "source": [
    "### Preview the Data"
   ]
  },
  {
   "cell_type": "code",
   "execution_count": 13,
   "metadata": {},
   "outputs": [
    {
     "data": {
      "text/plain": [
       "<mpl_toolkits.mplot3d.art3d.Path3DCollection at 0x7f7b8db01090>"
      ]
     },
     "execution_count": 13,
     "metadata": {},
     "output_type": "execute_result"
    }
   ],
   "source": [
    "# Render the Original Armadillo\n",
    "\n",
    "fig = plt.figure()\n",
    "ax  = fig.add_subplot(111, projection='3d')\n",
    "\n",
    "ax.set_title('Armadillo 3D')\n",
    "ax.set_xlabel('X')\n",
    "ax.set_ylabel('Y')\n",
    "ax.set_zlabel('Z')\n",
    "ax.scatter(armadillo.x, armadillo.y, armadillo.z, c='green', marker='.', alpha=0.75)"
   ]
  },
  {
   "cell_type": "markdown",
   "metadata": {},
   "source": [
    "### Time Execution Speeds"
   ]
  },
  {
   "cell_type": "markdown",
   "metadata": {
    "collapsed": true
   },
   "source": [
    "Let's see how long it takes PCA to execute:"
   ]
  },
  {
   "cell_type": "code",
   "execution_count": 16,
   "metadata": {
    "collapsed": true
   },
   "outputs": [],
   "source": [
    "pca = do_PCA(armadillo, 'full')"
   ]
  },
  {
   "cell_type": "markdown",
   "metadata": {},
   "source": [
    "Render the newly transformed PCA armadillo!"
   ]
  },
  {
   "cell_type": "code",
   "execution_count": 21,
   "metadata": {},
   "outputs": [
    {
     "data": {
      "image/png": "[encoded data removed]",
      "text/plain": [
       "<matplotlib.figure.Figure at 0x7f7b7feed2d0>"
      ]
     },
     "metadata": {},
     "output_type": "display_data"
    }
   ],
   "source": [
    "fig = plt.figure()\n",
    "ax = fig.add_subplot(111)\n",
    "ax.set_title('Full PCA')\n",
    "ax.scatter(pca[:,0], pca[:,1], c='blue', marker='.', alpha=0.75)\n",
    "plt.show()"
   ]
  },
  {
   "cell_type": "markdown",
   "metadata": {},
   "source": [
    "Let's also take a look at the speed of the randomized solver on the same dataset. It might be faster, it might be slower, or it might take exactly the same amount of time to execute:"
   ]
  },
  {
   "cell_type": "code",
   "execution_count": 25,
   "metadata": {
    "collapsed": true
   },
   "outputs": [],
   "source": [
    "rpca = do_PCA(armadillo, 'randomized')"
   ]
  },
  {
   "cell_type": "markdown",
   "metadata": {},
   "source": [
    "Let's see what the results look like:"
   ]
  },
  {
   "cell_type": "code",
   "execution_count": 27,
   "metadata": {},
   "outputs": [
    {
     "data": {
      "image/png": "[encoded data removed]",
      "text/plain": [
       "<matplotlib.figure.Figure at 0x7f7b7fedb410>"
      ]
     },
     "metadata": {},
     "output_type": "display_data"
    }
   ],
   "source": [
    "fig = plt.figure()\n",
    "ax = fig.add_subplot(111)\n",
    "ax.set_title('Randomized PCA')\n",
    "ax.scatter(rpca[:,0], rpca[:,1], c='red', marker='.', alpha=0.75)\n",
    "plt.show()"
   ]
  },
  {
   "cell_type": "code",
   "execution_count": null,
   "metadata": {
    "collapsed": true
   },
   "outputs": [],
   "source": []
  }
 ],
 "metadata": {
  "anaconda-cloud": {},
  "kernelspec": {
   "display_name": "Python 2",
   "language": "python",
   "name": "python2"
  },
  "language_info": {
   "codemirror_mode": {
    "name": "ipython",
    "version": 2
   },
   "file_extension": ".py",
   "mimetype": "text/x-python",
   "name": "python",
   "nbconvert_exporter": "python",
   "pygments_lexer": "ipython2",
   "version": "2.7.11"
  },
  "toc": {
   "colors": {
    "hover_highlight": "#DAA520",
    "running_highlight": "#FF0000",
    "selected_highlight": "#FFD700"
   },
   "moveMenuLeft": true,
   "nav_menu": {
    "height": "58px",
    "width": "252px"
   },
   "navigate_menu": true,
   "number_sections": true,
   "sideBar": true,
   "threshold": 4,
   "toc_cell": false,
   "toc_section_display": "block",
   "toc_window_display": false,
   "widenNotebook": false
  }
 },
 "nbformat": 4,
 "nbformat_minor": 2
}
