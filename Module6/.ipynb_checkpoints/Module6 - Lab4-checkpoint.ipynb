{
 "cells": [
  {
   "cell_type": "markdown",
   "metadata": {},
   "source": [
    "# DAT210x - Programming with Python for DS"
   ]
  },
  {
   "cell_type": "markdown",
   "metadata": {},
   "source": [
    "## Module6- Lab4"
   ]
  },
  {
   "cell_type": "markdown",
   "metadata": {},
   "source": [
    "This code is intentionally missing! Read the directions on the course lab page!"
   ]
  },
  {
   "cell_type": "code",
   "execution_count": 1,
   "metadata": {
    "collapsed": true
   },
   "outputs": [],
   "source": [
    "import matplotlib as mpl\n",
    "import matplotlib.pyplot as plt\n",
    "\n",
    "import pandas as pd\n",
    "import numpy as np \n",
    "import time"
   ]
  },
  {
   "cell_type": "code",
   "execution_count": 2,
   "metadata": {
    "collapsed": true
   },
   "outputs": [],
   "source": [
    "C = 1\n",
    "kernel = 'linear'\n",
    "iterations = 5000"
   ]
  },
  {
   "cell_type": "code",
   "execution_count": 4,
   "metadata": {
    "collapsed": true
   },
   "outputs": [],
   "source": [
    "FAST_DRAW = True"
   ]
  },
  {
   "cell_type": "code",
   "execution_count": 5,
   "metadata": {
    "collapsed": true
   },
   "outputs": [],
   "source": [
    "def drawPlots(model, wintitle='Figure 1'):\n",
    "  # INFO: A convenience function for you\n",
    "  # You can use this to break any higher-dimensional space down\n",
    "  # And view cross sections of it.\n",
    "\n",
    "  # If this line throws an error, use plt.style.use('ggplot') instead\n",
    "  mpl.style.use('ggplot') # Look Pretty\n",
    "\n",
    "  padding = 3\n",
    "  resolution = 0.5\n",
    "  max_2d_score = 0\n",
    "\n",
    "  y_colors = ['#ff0000', '#00ff00', '#0000ff']\n",
    "  my_cmap = mpl.colors.ListedColormap(['#ffaaaa', '#aaffaa', '#aaaaff'])\n",
    "  colors = [y_colors[i] for i in y_train]\n",
    "  num_columns = len(X_train.columns)\n",
    "\n",
    "  fig = plt.figure()\n",
    "  fig.canvas.set_window_title(wintitle)\n",
    "  \n",
    "  cnt = 0\n",
    "  for col in range(num_columns):\n",
    "    for row in range(num_columns):\n",
    "      # Easy out\n",
    "      if FAST_DRAW and col > row:\n",
    "        cnt += 1\n",
    "        continue\n",
    "\n",
    "      ax = plt.subplot(num_columns, num_columns, cnt + 1)\n",
    "      plt.xticks(())\n",
    "      plt.yticks(())\n",
    "\n",
    "      # Intersection:\n",
    "      if col == row:\n",
    "        plt.text(0.5, 0.5, X_train.columns[row], verticalalignment='center', horizontalalignment='center', fontsize=12)\n",
    "        cnt += 1\n",
    "        continue\n",
    "\n",
    "\n",
    "      # Only select two features to display, then train the model\n",
    "      X_train_bag = X_train.ix[:, [row,col]]\n",
    "      X_test_bag = X_test.ix[:, [row,col]]\n",
    "      model.fit(X_train_bag, y_train)\n",
    "\n",
    "      # Create a mesh to plot in\n",
    "      x_min, x_max = X_train_bag.ix[:, 0].min() - padding, X_train_bag.ix[:, 0].max() + padding\n",
    "      y_min, y_max = X_train_bag.ix[:, 1].min() - padding, X_train_bag.ix[:, 1].max() + padding\n",
    "      xx, yy = np.meshgrid(np.arange(x_min, x_max, resolution),\n",
    "                           np.arange(y_min, y_max, resolution))\n",
    "\n",
    "      # Plot Boundaries\n",
    "      plt.xlim(xx.min(), xx.max())\n",
    "      plt.ylim(yy.min(), yy.max())\n",
    "\n",
    "      # Prepare the contour\n",
    "      Z = model.predict(np.c_[xx.ravel(), yy.ravel()])\n",
    "      Z = Z.reshape(xx.shape)\n",
    "      plt.contourf(xx, yy, Z, cmap=my_cmap, alpha=0.8)\n",
    "      plt.scatter(X_train_bag.ix[:, 0], X_train_bag.ix[:, 1], c=colors, alpha=0.5)\n",
    "\n",
    "\n",
    "      score = round(model.score(X_test_bag, y_test) * 100, 3)\n",
    "      plt.text(0.5, 0, \"Score: {0}\".format(score), transform = ax.transAxes, horizontalalignment='center', fontsize=8)\n",
    "      max_2d_score = score if score > max_2d_score else max_2d_score\n",
    "\n",
    "      cnt += 1\n",
    "\n",
    "  print \"Max 2D Score: \", max_2d_score\n",
    "  fig.set_tight_layout(True)\n",
    "\n",
    "\n",
    "def benchmark(model, wintitle='Figure 1'):\n",
    "  print '\\n\\n' + wintitle + ' Results'\n",
    "  s = time.time()\n",
    "  for i in range(iterations):    \n",
    "    #\n",
    "    # TODO: train the classifier on the training data / labels:\n",
    "    #\n",
    "    # .. your code here ..\n",
    "    a = model.fit(X_train, y_train)\n",
    "  print \"{0} Iterations Training Time: \".format(iterations), time.time() - s\n",
    "\n",
    "  s = time.time()\n",
    "  for i in range(iterations):\n",
    "    #\n",
    "    # TODO: score the classifier on the testing data / labels:\n",
    "    #\n",
    "    # .. your code here ..\n",
    "    score = a.score(X_test, y_test)\n",
    "  print \"{0} Iterations Scoring Time: \".format(iterations), time.time() - s\n",
    "  print \"High-Dimensionality Score: \", round((score*100), 3)\n",
    "  score = None"
   ]
  },
  {
   "cell_type": "code",
   "execution_count": 6,
   "metadata": {},
   "outputs": [
    {
     "name": "stdout",
     "output_type": "stream",
     "text": [
      "     area  perimeter  compactness  length  width  asymmetry  groove wheat_type\n",
      "id                                                                            \n",
      "0   15.26      14.84       0.8710   5.763  3.312      2.221   5.220       kama\n",
      "1   14.88      14.57       0.8811   5.554  3.333      1.018   4.956       kama\n",
      "2   14.29      14.09       0.9050   5.291  3.337      2.699   4.825       kama\n",
      "3   13.84      13.94       0.8955   5.324  3.379      2.259   4.805       kama\n",
      "4   16.14      14.99       0.9034   5.658  3.562      1.355   5.175       kama\n"
     ]
    }
   ],
   "source": [
    "X = pd.read_csv('Datasets/wheat.data', index_col = 0)\n",
    "print X.head()"
   ]
  },
  {
   "cell_type": "code",
   "execution_count": null,
   "metadata": {
    "collapsed": true
   },
   "outputs": [],
   "source": []
  }
 ],
 "metadata": {
  "anaconda-cloud": {},
  "kernelspec": {
   "display_name": "Python 2",
   "language": "python",
   "name": "python2"
  },
  "language_info": {
   "codemirror_mode": {
    "name": "ipython",
    "version": 2
   },
   "file_extension": ".py",
   "mimetype": "text/x-python",
   "name": "python",
   "nbconvert_exporter": "python",
   "pygments_lexer": "ipython2",
   "version": "2.7.11"
  },
  "toc": {
   "colors": {
    "hover_highlight": "#DAA520",
    "running_highlight": "#FF0000",
    "selected_highlight": "#FFD700"
   },
   "moveMenuLeft": true,
   "nav_menu": {
    "height": "58px",
    "width": "252px"
   },
   "navigate_menu": true,
   "number_sections": true,
   "sideBar": true,
   "threshold": 4,
   "toc_cell": false,
   "toc_section_display": "block",
   "toc_window_display": false,
   "widenNotebook": false
  }
 },
 "nbformat": 4,
 "nbformat_minor": 2
}
